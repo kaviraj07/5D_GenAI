{
 "cells": [
  {
   "cell_type": "markdown",
   "id": "9a13be98",
   "metadata": {
    "id": "jkxRSYjzA1oX",
    "papermill": {
     "duration": 0.014326,
     "end_time": "2025-03-31T19:14:37.123228",
     "exception": false,
     "start_time": "2025-03-31T19:14:37.108902",
     "status": "completed"
    },
    "tags": []
   },
   "source": [
    "##### Copyright 2025 Google LLC."
   ]
  },
  {
   "cell_type": "code",
   "execution_count": 1,
   "id": "1b55938f",
   "metadata": {
    "cellView": "form",
    "execution": {
     "iopub.execute_input": "2025-03-31T19:14:37.152878Z",
     "iopub.status.busy": "2025-03-31T19:14:37.152487Z",
     "iopub.status.idle": "2025-03-31T19:14:37.157588Z",
     "shell.execute_reply": "2025-03-31T19:14:37.156685Z"
    },
    "id": "5u5OZ2ShA3BA",
    "jupyter": {
     "source_hidden": true
    },
    "papermill": {
     "duration": 0.021312,
     "end_time": "2025-03-31T19:14:37.159501",
     "exception": false,
     "start_time": "2025-03-31T19:14:37.138189",
     "status": "completed"
    },
    "tags": []
   },
   "outputs": [],
   "source": [
    "# @title Licensed under the Apache License, Version 2.0 (the \"License\");\n",
    "# you may not use this file except in compliance with the License.\n",
    "# You may obtain a copy of the License at\n",
    "#\n",
    "# https://www.apache.org/licenses/LICENSE-2.0\n",
    "#\n",
    "# Unless required by applicable law or agreed to in writing, software\n",
    "# distributed under the License is distributed on an \"AS IS\" BASIS,\n",
    "# WITHOUT WARRANTIES OR CONDITIONS OF ANY KIND, either express or implied.\n",
    "# See the License for the specific language governing permissions and\n",
    "# limitations under the License."
   ]
  },
  {
   "cell_type": "markdown",
   "id": "1ed87e6f",
   "metadata": {
    "id": "csNPnkuCobmG",
    "papermill": {
     "duration": 0.012564,
     "end_time": "2025-03-31T19:14:37.184947",
     "exception": false,
     "start_time": "2025-03-31T19:14:37.172383",
     "status": "completed"
    },
    "tags": []
   },
   "source": [
    "# Day 1 - Prompting\n",
    "\n",
    "Welcome to the Kaggle 5-day Generative AI course!\n",
    "\n",
    "This notebook will show you how to get started with the Gemini API and walk you through some of the example prompts and techniques that you can also read about in the Prompting whitepaper. You don't need to read the whitepaper to use this notebook, but the papers will give you some theoretical context and background to complement this interactive notebook.\n",
    "\n",
    "\n",
    "## Before you begin\n",
    "\n",
    "In this notebook, you'll start exploring prompting using the Python SDK and AI Studio. For some inspiration, you might enjoy exploring some apps that have been built using the Gemini family of models. Here are a few that we like, and we think you will too.\n",
    "\n",
    "* [TextFX](https://textfx.withgoogle.com/) is a suite of AI-powered tools for rappers, made in collaboration with Lupe Fiasco,\n",
    "* [SQL Talk](https://sql-talk-r5gdynozbq-uc.a.run.app/) shows how you can talk directly to a database using the Gemini API,\n",
    "* [NotebookLM](https://notebooklm.google/) uses Gemini models to build your own personal AI research assistant.\n",
    "\n",
    "\n",
    "## For help\n",
    "\n",
    "**Common issues are covered in the [FAQ and troubleshooting guide](https://www.kaggle.com/code/markishere/day-0-troubleshooting-and-faqs).**\n",
    "\n",
    "## New for Gemini 2.0!\n",
    "\n",
    "This course material was first launched in November 2024. The AI and LLM space is moving incredibly fast, so we have made some updates to use the latest models and capabilities.\n",
    "\n",
    "* These codelabs have been updated to use the Gemini 2.0 family of models.\n",
    "* The Python SDK has been updated from `google-generativeai` to the new, unified [`google-genai`](https://pypi.org/project/google-genai) SDK.\n",
    "  * This new SDK works with both the developer Gemini API as well as Google Cloud Vertex AI, and switching is [as simple as changing some fields](https://pypi.org/project/google-genai/#:~:text=.Client%28%29-,API%20Selection,-By%20default%2C%20the).\n",
    "* New model capabilities have been added to the relevant codelabs, such as \"thinking mode\" in this lab.\n",
    "* Day 1 includes a new [Evaluation codelab](https://www.kaggle.com/code/markishere/day-1-evaluation-and-structured-output)."
   ]
  },
  {
   "attachments": {
    "d8299597-f771-4195-ac94-1d6f658ef2bd.png": {
     "image/png": "[encoded data removed]"
    },
    "ed25e346-2e15-4ab0-bc22-503eb1845e66.png": {
     "image/png": "[encoded data removed]"
    }
   },
   "cell_type": "markdown",
   "id": "e8cc1577",
   "metadata": {
    "id": "f00ea7c99e44",
    "papermill": {
     "duration": 0.012238,
     "end_time": "2025-03-31T19:14:37.209686",
     "exception": false,
     "start_time": "2025-03-31T19:14:37.197448",
     "status": "completed"
    },
    "tags": []
   },
   "source": [
    "## Get started with Kaggle notebooks\n",
    "\n",
    "If this is your first time using a Kaggle notebook, welcome! You can read about how to use Kaggle notebooks [in the docs](https://www.kaggle.com/docs/notebooks).\n",
    "\n",
    "First, you will need to phone verify your account at kaggle.com/settings.\n",
    "\n",
    "![](https://storage.googleapis.com/kaggle-media/Images/5dgai_0.png)"
   ]
  },
  {
   "cell_type": "markdown",
   "id": "ae1dc1c8",
   "metadata": {
    "papermill": {
     "duration": 0.012621,
     "end_time": "2025-03-31T19:14:37.234925",
     "exception": false,
     "start_time": "2025-03-31T19:14:37.222304",
     "status": "completed"
    },
    "tags": []
   },
   "source": [
    "To run this notebook, as well as the others in this course, you will need to make a copy, or fork, the notebook. Look for the `Copy and Edit` button in the top-right, and **click it** to make an editable, private copy of the notebook. It should look like this one:\n",
    "\n",
    "![Copy and Edit button](https://storage.googleapis.com/kaggle-media/Images/5gdai_sc_1.png)\n",
    "\n",
    "Your copy will now have a ▶️ **Run** button next to each code cell that you can press to execute that cell. These notebooks are expected to be run in order from top-to-bottom, but you are encouraged to add new cells, run your own code and explore. If you get stuck, you can try the `Factory reset` option in the `Run` menu, or head back to the original notebook and make a fresh copy.\n",
    "\n",
    "![Run cell button](https://storage.googleapis.com/kaggle-media/Images/5gdai_sc_2.png)\n",
    "\n",
    "### Problems?\n",
    "\n",
    "If you have any problems, head over to the [Kaggle Discord](https://discord.com/invite/kaggle), find the [`#5dgai-q-and-a` channel](https://discord.com/channels/1101210829807956100/1303438695143178251) and ask for help."
   ]
  },
  {
   "cell_type": "markdown",
   "id": "205b3276",
   "metadata": {
    "id": "ExkOXcPxtTb5",
    "papermill": {
     "duration": 0.012439,
     "end_time": "2025-03-31T19:14:37.260260",
     "exception": false,
     "start_time": "2025-03-31T19:14:37.247821",
     "status": "completed"
    },
    "tags": []
   },
   "source": [
    "## Get started with the Gemini API\n",
    "\n",
    "All of the exercises in this notebook will use the [Gemini API](https://ai.google.dev/gemini-api/) by way of the [Python SDK](https://pypi.org/project/google-genai/). Each of these prompts can be accessed directly in [Google AI Studio](https://aistudio.google.com/) too, so if you would rather use a web interface and skip the code for this activity, look for the <img src=\"https://ai.google.dev/site-assets/images/marketing/home/icon-ais.png\" style=\"height: 24px\" height=24/> AI Studio link on each prompt."
   ]
  },
  {
   "cell_type": "markdown",
   "id": "b69538e2",
   "metadata": {
    "papermill": {
     "duration": 0.013444,
     "end_time": "2025-03-31T19:14:37.286534",
     "exception": false,
     "start_time": "2025-03-31T19:14:37.273090",
     "status": "completed"
    },
    "tags": []
   },
   "source": [
    "Next, you will need to add your API key to your Kaggle Notebook as a Kaggle User Secret.\n",
    "\n",
    "![](https://storage.googleapis.com/kaggle-media/Images/5dgai_1.png)\n",
    "![](https://storage.googleapis.com/kaggle-media/Images/5dgai_2.png)\n",
    "![](https://storage.googleapis.com/kaggle-media/Images/5dgai_3.png)\n",
    "![](https://storage.googleapis.com/kaggle-media/Images/5dgai_4.png)"
   ]
  },
  {
   "cell_type": "markdown",
   "id": "5955aba3",
   "metadata": {
    "id": "UAjUV3BsvFXQ",
    "papermill": {
     "duration": 0.012772,
     "end_time": "2025-03-31T19:14:37.312261",
     "exception": false,
     "start_time": "2025-03-31T19:14:37.299489",
     "status": "completed"
    },
    "tags": []
   },
   "source": [
    "### Install the SDK"
   ]
  },
  {
   "cell_type": "code",
   "execution_count": 2,
   "id": "5b989cab",
   "metadata": {
    "execution": {
     "iopub.execute_input": "2025-03-31T19:14:37.340000Z",
     "iopub.status.busy": "2025-03-31T19:14:37.339115Z",
     "iopub.status.idle": "2025-03-31T19:14:53.885150Z",
     "shell.execute_reply": "2025-03-31T19:14:53.883962Z"
    },
    "id": "NzwzJFU9LqkJ",
    "papermill": {
     "duration": 16.562441,
     "end_time": "2025-03-31T19:14:53.887613",
     "exception": false,
     "start_time": "2025-03-31T19:14:37.325172",
     "status": "completed"
    },
    "tags": []
   },
   "outputs": [],
   "source": [
    "!pip uninstall -qqy jupyterlab  # Remove unused packages from Kaggle's base image that conflict\n",
    "!pip install -U -q \"google-genai==1.7.0\""
   ]
  },
  {
   "cell_type": "markdown",
   "id": "33603f29",
   "metadata": {
    "papermill": {
     "duration": 0.012283,
     "end_time": "2025-03-31T19:14:53.912606",
     "exception": false,
     "start_time": "2025-03-31T19:14:53.900323",
     "status": "completed"
    },
    "tags": []
   },
   "source": [
    "Import the SDK and some helpers for rendering the output."
   ]
  },
  {
   "cell_type": "code",
   "execution_count": 3,
   "id": "d6b2eef5",
   "metadata": {
    "execution": {
     "iopub.execute_input": "2025-03-31T19:14:53.940507Z",
     "iopub.status.busy": "2025-03-31T19:14:53.939543Z",
     "iopub.status.idle": "2025-03-31T19:14:55.137219Z",
     "shell.execute_reply": "2025-03-31T19:14:55.136348Z"
    },
    "id": "5DwxYIRavMST",
    "papermill": {
     "duration": 1.214035,
     "end_time": "2025-03-31T19:14:55.139495",
     "exception": false,
     "start_time": "2025-03-31T19:14:53.925460",
     "status": "completed"
    },
    "tags": []
   },
   "outputs": [],
   "source": [
    "from google import genai\n",
    "from google.genai import types\n",
    "\n",
    "from IPython.display import HTML, Markdown, display"
   ]
  },
  {
   "cell_type": "markdown",
   "id": "b8b5c79f",
   "metadata": {
    "papermill": {
     "duration": 0.012553,
     "end_time": "2025-03-31T19:14:55.165190",
     "exception": false,
     "start_time": "2025-03-31T19:14:55.152637",
     "status": "completed"
    },
    "tags": []
   },
   "source": [
    "Set up a retry helper. This allows you to \"Run all\" without worrying about per-minute quota."
   ]
  },
  {
   "cell_type": "code",
   "execution_count": 4,
   "id": "4bcd294d",
   "metadata": {
    "execution": {
     "iopub.execute_input": "2025-03-31T19:14:55.192177Z",
     "iopub.status.busy": "2025-03-31T19:14:55.191644Z",
     "iopub.status.idle": "2025-03-31T19:14:55.331139Z",
     "shell.execute_reply": "2025-03-31T19:14:55.329899Z"
    },
    "papermill": {
     "duration": 0.155969,
     "end_time": "2025-03-31T19:14:55.333793",
     "exception": false,
     "start_time": "2025-03-31T19:14:55.177824",
     "status": "completed"
    },
    "tags": []
   },
   "outputs": [],
   "source": [
    "from google.api_core import retry\n",
    "\n",
    "\n",
    "is_retriable = lambda e: (isinstance(e, genai.errors.APIError) and e.code in {429, 503})\n",
    "\n",
    "genai.models.Models.generate_content = retry.Retry(\n",
    "    predicate=is_retriable)(genai.models.Models.generate_content)"
   ]
  },
  {
   "cell_type": "markdown",
   "id": "3e6579b7",
   "metadata": {
    "id": "DNEt2BCOvOJ1",
    "papermill": {
     "duration": 0.012532,
     "end_time": "2025-03-31T19:14:55.359328",
     "exception": false,
     "start_time": "2025-03-31T19:14:55.346796",
     "status": "completed"
    },
    "tags": []
   },
   "source": [
    "### Set up your API key\n",
    "\n",
    "To run the following cell, your API key must be stored it in a [Kaggle secret](https://www.kaggle.com/discussions/product-feedback/114053) named `GOOGLE_API_KEY`.\n",
    "\n",
    "If you don't already have an API key, you can grab one from [AI Studio](https://aistudio.google.com/app/apikey). You can find [detailed instructions in the docs](https://ai.google.dev/gemini-api/docs/api-key).\n",
    "\n",
    "To make the key available through Kaggle secrets, choose `Secrets` from the `Add-ons` menu and follow the instructions to add your key or enable it for this notebook."
   ]
  },
  {
   "cell_type": "code",
   "execution_count": 5,
   "id": "4a68d810",
   "metadata": {
    "execution": {
     "iopub.execute_input": "2025-03-31T19:14:55.386172Z",
     "iopub.status.busy": "2025-03-31T19:14:55.385646Z",
     "iopub.status.idle": "2025-03-31T19:14:55.612335Z",
     "shell.execute_reply": "2025-03-31T19:14:55.611290Z"
    },
    "id": "SHl0bkPCvayd",
    "papermill": {
     "duration": 0.242675,
     "end_time": "2025-03-31T19:14:55.614643",
     "exception": false,
     "start_time": "2025-03-31T19:14:55.371968",
     "status": "completed"
    },
    "tags": []
   },
   "outputs": [],
   "source": [
    "from kaggle_secrets import UserSecretsClient\n",
    "\n",
    "GOOGLE_API_KEY = UserSecretsClient().get_secret(\"GOOGLE_API_KEY\")"
   ]
  },
  {
   "attachments": {
    "d2be9aab-2527-48af-b6cf-1f06cdd7c3a7.png": {
     "image/png": "[encoded data removed]"
    }
   },
   "cell_type": "markdown",
   "id": "cf457320",
   "metadata": {
    "id": "4e720472fd86",
    "papermill": {
     "duration": 0.012405,
     "end_time": "2025-03-31T19:14:55.639988",
     "exception": false,
     "start_time": "2025-03-31T19:14:55.627583",
     "status": "completed"
    },
    "tags": []
   },
   "source": [
    "If you received an error response along the lines of `No user secrets exist for kernel id ...`, then you need to add your API key via `Add-ons`, `Secrets` **and** enable it.\n",
    "\n",
    "![Screenshot of the checkbox to enable GOOGLE_API_KEY secret](https://storage.googleapis.com/kaggle-media/Images/5gdai_sc_3.png)"
   ]
  },
  {
   "cell_type": "markdown",
   "id": "b78621ae",
   "metadata": {
    "id": "H_YXCYIKvyZJ",
    "papermill": {
     "duration": 0.012494,
     "end_time": "2025-03-31T19:14:55.665216",
     "exception": false,
     "start_time": "2025-03-31T19:14:55.652722",
     "status": "completed"
    },
    "tags": []
   },
   "source": [
    "### Run your first prompt\n",
    "\n",
    "In this step, you will test that your API key is set up correctly by making a request.\n",
    "\n",
    "The Python SDK uses a [`Client` object](https://googleapis.github.io/python-genai/genai.html#genai.client.Client) to make requests to the API. The client lets you control which back-end to use (between the Gemini API and Vertex AI) and handles authentication (the API key).\n",
    "\n",
    "The `gemini-2.0-flash` model has been selected here.\n",
    "\n",
    "**Note**: If you see a `TransportError` on this step, you may need to **🔁 Factory reset** the notebook one time."
   ]
  },
  {
   "cell_type": "code",
   "execution_count": 6,
   "id": "a1ce38a3",
   "metadata": {
    "execution": {
     "iopub.execute_input": "2025-03-31T19:14:55.692369Z",
     "iopub.status.busy": "2025-03-31T19:14:55.691991Z",
     "iopub.status.idle": "2025-03-31T19:14:57.587117Z",
     "shell.execute_reply": "2025-03-31T19:14:57.586034Z"
    },
    "id": "BV1o0PmcvyJF",
    "papermill": {
     "duration": 1.911157,
     "end_time": "2025-03-31T19:14:57.589250",
     "exception": false,
     "start_time": "2025-03-31T19:14:55.678093",
     "status": "completed"
    },
    "tags": []
   },
   "outputs": [
    {
     "name": "stdout",
     "output_type": "stream",
     "text": [
      "Imagine you have a really, really smart puppy. That puppy can learn tricks. You show it how to sit, and after a few tries, it learns!\n",
      "\n",
      "AI is like that puppy, but instead of a puppy, it's a computer program. And instead of learning tricks like \"sit,\" it can learn to do things like:\n",
      "\n",
      "*   **Recognize pictures:** You can show it lots of pictures of cats, and eventually, it will be able to tell you if a new picture has a cat in it!\n",
      "*   **Understand what you say:** You can talk to it, and it can try to understand what you mean.\n",
      "*   **Play games:** It can play games like chess or checkers, and it can get really good at them by learning from its mistakes.\n",
      "*   **Write stories:** You can tell it some words and it can create an entire story from them.\n",
      "\n",
      "AI learns by looking at lots and lots of information. The more it sees, the better it gets at doing its job.\n",
      "\n",
      "It's important to remember that AI isn't really \"thinking\" like you and me. It's just really good at finding patterns and using those patterns to do what it's been trained to do.\n",
      "\n",
      "So, AI is like a super-smart, learning computer program that can do amazing things by looking at lots and lots of examples!\n",
      "\n"
     ]
    }
   ],
   "source": [
    "client = genai.Client(api_key=GOOGLE_API_KEY)\n",
    "\n",
    "response = client.models.generate_content(\n",
    "    model=\"gemini-2.0-flash\",\n",
    "    contents=\"Explain AI to me like I'm a kid.\")\n",
    "\n",
    "print(response.text)"
   ]
  },
  {
   "cell_type": "markdown",
   "id": "84240a5c",
   "metadata": {
    "id": "f60ed9d8ae41",
    "papermill": {
     "duration": 0.013322,
     "end_time": "2025-03-31T19:14:57.615445",
     "exception": false,
     "start_time": "2025-03-31T19:14:57.602123",
     "status": "completed"
    },
    "tags": []
   },
   "source": [
    "The response often comes back in markdown format, which you can render directly in this notebook."
   ]
  },
  {
   "cell_type": "code",
   "execution_count": 7,
   "id": "c0cf7d3e",
   "metadata": {
    "execution": {
     "iopub.execute_input": "2025-03-31T19:14:57.643110Z",
     "iopub.status.busy": "2025-03-31T19:14:57.642355Z",
     "iopub.status.idle": "2025-03-31T19:14:57.649546Z",
     "shell.execute_reply": "2025-03-31T19:14:57.648669Z"
    },
    "id": "c933e5e460a5",
    "papermill": {
     "duration": 0.02291,
     "end_time": "2025-03-31T19:14:57.651466",
     "exception": false,
     "start_time": "2025-03-31T19:14:57.628556",
     "status": "completed"
    },
    "tags": []
   },
   "outputs": [
    {
     "data": {
      "text/markdown": [
       "Imagine you have a really, really smart puppy. That puppy can learn tricks. You show it how to sit, and after a few tries, it learns!\n",
       "\n",
       "AI is like that puppy, but instead of a puppy, it's a computer program. And instead of learning tricks like \"sit,\" it can learn to do things like:\n",
       "\n",
       "*   **Recognize pictures:** You can show it lots of pictures of cats, and eventually, it will be able to tell you if a new picture has a cat in it!\n",
       "*   **Understand what you say:** You can talk to it, and it can try to understand what you mean.\n",
       "*   **Play games:** It can play games like chess or checkers, and it can get really good at them by learning from its mistakes.\n",
       "*   **Write stories:** You can tell it some words and it can create an entire story from them.\n",
       "\n",
       "AI learns by looking at lots and lots of information. The more it sees, the better it gets at doing its job.\n",
       "\n",
       "It's important to remember that AI isn't really \"thinking\" like you and me. It's just really good at finding patterns and using those patterns to do what it's been trained to do.\n",
       "\n",
       "So, AI is like a super-smart, learning computer program that can do amazing things by looking at lots and lots of examples!\n"
      ],
      "text/plain": [
       "<IPython.core.display.Markdown object>"
      ]
     },
     "execution_count": 7,
     "metadata": {},
     "output_type": "execute_result"
    }
   ],
   "source": [
    "Markdown(response.text)"
   ]
  },
  {
   "cell_type": "markdown",
   "id": "9d2d7d29",
   "metadata": {
    "id": "byx0pT9ZMW2Q",
    "papermill": {
     "duration": 0.012793,
     "end_time": "2025-03-31T19:14:57.677288",
     "exception": false,
     "start_time": "2025-03-31T19:14:57.664495",
     "status": "completed"
    },
    "tags": []
   },
   "source": [
    "### Start a chat\n",
    "\n",
    "The previous example uses a single-turn, text-in/text-out structure, but you can also set up a multi-turn chat structure too."
   ]
  },
  {
   "cell_type": "code",
   "execution_count": 8,
   "id": "9d2b2deb",
   "metadata": {
    "execution": {
     "iopub.execute_input": "2025-03-31T19:14:57.704892Z",
     "iopub.status.busy": "2025-03-31T19:14:57.704130Z",
     "iopub.status.idle": "2025-03-31T19:14:58.321343Z",
     "shell.execute_reply": "2025-03-31T19:14:58.320272Z"
    },
    "id": "lV_S5ZL5MidD",
    "papermill": {
     "duration": 0.633242,
     "end_time": "2025-03-31T19:14:58.323400",
     "exception": false,
     "start_time": "2025-03-31T19:14:57.690158",
     "status": "completed"
    },
    "tags": []
   },
   "outputs": [
    {
     "name": "stdout",
     "output_type": "stream",
     "text": [
      "Hello Kaviraj! It's nice to meet you. How can I help you today?\n",
      "\n"
     ]
    }
   ],
   "source": [
    "chat = client.chats.create(model='gemini-2.0-flash', history=[])\n",
    "response = chat.send_message('Hello! My name is Kaviraj.')\n",
    "print(response.text)"
   ]
  },
  {
   "cell_type": "code",
   "execution_count": 9,
   "id": "5ac552b5",
   "metadata": {
    "execution": {
     "iopub.execute_input": "2025-03-31T19:14:58.352280Z",
     "iopub.status.busy": "2025-03-31T19:14:58.351910Z",
     "iopub.status.idle": "2025-03-31T19:14:59.906996Z",
     "shell.execute_reply": "2025-03-31T19:14:59.905903Z"
    },
    "id": "7b0372c3c64a",
    "papermill": {
     "duration": 1.572775,
     "end_time": "2025-03-31T19:14:59.909299",
     "exception": false,
     "start_time": "2025-03-31T19:14:58.336524",
     "status": "completed"
    },
    "tags": []
   },
   "outputs": [
    {
     "name": "stdout",
     "output_type": "stream",
     "text": [
      "Okay, here's something interesting about dinosaurs:\n",
      "\n",
      "**We used to think all dinosaurs were scaly, but recent discoveries suggest that many, if not most, dinosaurs, including theropods (the group that includes T. Rex), had feathers!**\n",
      "\n",
      "Here's why this is interesting:\n",
      "\n",
      "*   **Changes our perception:** We often picture dinosaurs as reptiles with tough, bumpy skin. The idea of feathered dinosaurs is a relatively new understanding, based on fossil evidence.\n",
      "*   **Evolutionary links:** Feathers in dinosaurs provide a crucial link between dinosaurs and modern birds, solidifying the theory that birds are directly descended from theropod dinosaurs.\n",
      "*   **Function beyond flight:** Not all feathered dinosaurs could fly. Some might have used feathers for insulation, camouflage, display, or even as a sort of sensory aid.\n",
      "\n",
      "So, the next time you think of a dinosaur, imagine it covered in colorful, downy feathers instead of just scales!\n",
      "\n",
      "I hope you found that interesting! Do you have another question about dinosaurs, or anything else?\n",
      "\n"
     ]
    }
   ],
   "source": [
    "response = chat.send_message('Can you tell me something interesting about dinosaurs?')\n",
    "print(response.text)"
   ]
  },
  {
   "cell_type": "markdown",
   "id": "0285072f",
   "metadata": {
    "papermill": {
     "duration": 0.013328,
     "end_time": "2025-03-31T19:14:59.935982",
     "exception": false,
     "start_time": "2025-03-31T19:14:59.922654",
     "status": "completed"
    },
    "tags": []
   },
   "source": [
    "While you have the `chat` object alive, the conversation state\n",
    "persists. Confirm that by asking if it knows the user's name."
   ]
  },
  {
   "cell_type": "code",
   "execution_count": 10,
   "id": "fe0ca40c",
   "metadata": {
    "execution": {
     "iopub.execute_input": "2025-03-31T19:14:59.964253Z",
     "iopub.status.busy": "2025-03-31T19:14:59.963328Z",
     "iopub.status.idle": "2025-03-31T19:15:00.464064Z",
     "shell.execute_reply": "2025-03-31T19:15:00.463042Z"
    },
    "id": "d3f9591392a7",
    "papermill": {
     "duration": 0.517177,
     "end_time": "2025-03-31T19:15:00.466300",
     "exception": false,
     "start_time": "2025-03-31T19:14:59.949123",
     "status": "completed"
    },
    "tags": []
   },
   "outputs": [
    {
     "name": "stdout",
     "output_type": "stream",
     "text": [
      "Yes, your name is Kaviraj.\n",
      "\n"
     ]
    }
   ],
   "source": [
    "response = chat.send_message('Do you remember what my name is?')\n",
    "print(response.text)"
   ]
  },
  {
   "cell_type": "markdown",
   "id": "afa895ee",
   "metadata": {
    "id": "2KAjpr1200sW",
    "papermill": {
     "duration": 0.013194,
     "end_time": "2025-03-31T19:15:00.493275",
     "exception": false,
     "start_time": "2025-03-31T19:15:00.480081",
     "status": "completed"
    },
    "tags": []
   },
   "source": [
    "### Choose a model\n",
    "\n",
    "The Gemini API provides access to a number of models from the Gemini model family. Read about the available models and their capabilities on the [model overview page](https://ai.google.dev/gemini-api/docs/models/gemini).\n",
    "\n",
    "In this step you'll use the API to list all of the available models."
   ]
  },
  {
   "cell_type": "code",
   "execution_count": 11,
   "id": "b9f3d487",
   "metadata": {
    "execution": {
     "iopub.execute_input": "2025-03-31T19:15:00.522084Z",
     "iopub.status.busy": "2025-03-31T19:15:00.521171Z",
     "iopub.status.idle": "2025-03-31T19:15:00.546807Z",
     "shell.execute_reply": "2025-03-31T19:15:00.545823Z"
    },
    "id": "uUUZa2uq2jDm",
    "papermill": {
     "duration": 0.042402,
     "end_time": "2025-03-31T19:15:00.549072",
     "exception": false,
     "start_time": "2025-03-31T19:15:00.506670",
     "status": "completed"
    },
    "tags": []
   },
   "outputs": [
    {
     "name": "stdout",
     "output_type": "stream",
     "text": [
      "models/chat-bison-001\n",
      "models/text-bison-001\n",
      "models/embedding-gecko-001\n",
      "models/gemini-1.0-pro-vision-latest\n",
      "models/gemini-pro-vision\n",
      "models/gemini-1.5-pro-latest\n",
      "models/gemini-1.5-pro-001\n",
      "models/gemini-1.5-pro-002\n",
      "models/gemini-1.5-pro\n",
      "models/gemini-1.5-flash-latest\n",
      "models/gemini-1.5-flash-001\n",
      "models/gemini-1.5-flash-001-tuning\n",
      "models/gemini-1.5-flash\n",
      "models/gemini-1.5-flash-002\n",
      "models/gemini-1.5-flash-8b\n",
      "models/gemini-1.5-flash-8b-001\n",
      "models/gemini-1.5-flash-8b-latest\n",
      "models/gemini-1.5-flash-8b-exp-0827\n",
      "models/gemini-1.5-flash-8b-exp-0924\n",
      "models/gemini-2.5-pro-exp-03-25\n",
      "models/gemini-2.0-flash-exp\n",
      "models/gemini-2.0-flash\n",
      "models/gemini-2.0-flash-001\n",
      "models/gemini-2.0-flash-exp-image-generation\n",
      "models/gemini-2.0-flash-lite-001\n",
      "models/gemini-2.0-flash-lite\n",
      "models/gemini-2.0-flash-lite-preview-02-05\n",
      "models/gemini-2.0-flash-lite-preview\n",
      "models/gemini-2.0-pro-exp\n",
      "models/gemini-2.0-pro-exp-02-05\n",
      "models/gemini-exp-1206\n",
      "models/gemini-2.0-flash-thinking-exp-01-21\n",
      "models/gemini-2.0-flash-thinking-exp\n",
      "models/gemini-2.0-flash-thinking-exp-1219\n",
      "models/learnlm-1.5-pro-experimental\n",
      "models/gemma-3-27b-it\n",
      "models/embedding-001\n",
      "models/text-embedding-004\n",
      "models/gemini-embedding-exp-03-07\n",
      "models/gemini-embedding-exp\n",
      "models/aqa\n",
      "models/imagen-3.0-generate-002\n"
     ]
    }
   ],
   "source": [
    "for model in client.models.list():\n",
    "  print(model.name)"
   ]
  },
  {
   "cell_type": "markdown",
   "id": "59ec0d6b",
   "metadata": {
    "id": "rN49kSI54R1v",
    "papermill": {
     "duration": 0.013011,
     "end_time": "2025-03-31T19:15:00.576003",
     "exception": false,
     "start_time": "2025-03-31T19:15:00.562992",
     "status": "completed"
    },
    "tags": []
   },
   "source": [
    "The [`models.list`](https://ai.google.dev/api/models#method:-models.list) response also returns additional information about the model's capabilities, like the token limits and supported parameters."
   ]
  },
  {
   "cell_type": "code",
   "execution_count": 12,
   "id": "13a30c16",
   "metadata": {
    "execution": {
     "iopub.execute_input": "2025-03-31T19:15:00.604436Z",
     "iopub.status.busy": "2025-03-31T19:15:00.603555Z",
     "iopub.status.idle": "2025-03-31T19:15:00.631284Z",
     "shell.execute_reply": "2025-03-31T19:15:00.630213Z"
    },
    "id": "k7JJ1K6j4Rl8",
    "papermill": {
     "duration": 0.044199,
     "end_time": "2025-03-31T19:15:00.633335",
     "exception": false,
     "start_time": "2025-03-31T19:15:00.589136",
     "status": "completed"
    },
    "tags": []
   },
   "outputs": [
    {
     "name": "stdout",
     "output_type": "stream",
     "text": [
      "{'description': 'Gemini 2.0 Flash',\n",
      " 'display_name': 'Gemini 2.0 Flash',\n",
      " 'input_token_limit': 1048576,\n",
      " 'name': 'models/gemini-2.0-flash',\n",
      " 'output_token_limit': 8192,\n",
      " 'supported_actions': ['generateContent', 'countTokens'],\n",
      " 'tuned_model_info': {},\n",
      " 'version': '2.0'}\n"
     ]
    }
   ],
   "source": [
    "from pprint import pprint\n",
    "\n",
    "for model in client.models.list():\n",
    "  if model.name == 'models/gemini-2.0-flash':\n",
    "    pprint(model.to_json_dict())\n",
    "    break"
   ]
  },
  {
   "cell_type": "markdown",
   "id": "c47be1e1",
   "metadata": {
    "id": "5rU_UBlZdooM",
    "papermill": {
     "duration": 0.012912,
     "end_time": "2025-03-31T19:15:00.659500",
     "exception": false,
     "start_time": "2025-03-31T19:15:00.646588",
     "status": "completed"
    },
    "tags": []
   },
   "source": [
    "## Explore generation parameters\n",
    "\n"
   ]
  },
  {
   "cell_type": "markdown",
   "id": "958bf31b",
   "metadata": {
    "id": "G7NfEizeipbW",
    "papermill": {
     "duration": 0.012818,
     "end_time": "2025-03-31T19:15:00.685602",
     "exception": false,
     "start_time": "2025-03-31T19:15:00.672784",
     "status": "completed"
    },
    "tags": []
   },
   "source": [
    "### Output length\n",
    "\n",
    "When generating text with an LLM, the output length affects cost and performance. Generating more tokens increases computation, leading to higher energy consumption, latency, and cost.\n",
    "\n",
    "To stop the model from generating tokens past a limit, you can specify the `max_output_tokens` parameter when using the Gemini API. Specifying this parameter does not influence the generation of the output tokens, so the output will not become more stylistically or textually succinct, but it will stop generating tokens once the specified length is reached. Prompt engineering may be required to generate a more complete output for your given limit."
   ]
  },
  {
   "cell_type": "code",
   "execution_count": 13,
   "id": "e56d609b",
   "metadata": {
    "execution": {
     "iopub.execute_input": "2025-03-31T19:15:00.713783Z",
     "iopub.status.busy": "2025-03-31T19:15:00.712897Z",
     "iopub.status.idle": "2025-03-31T19:15:02.041204Z",
     "shell.execute_reply": "2025-03-31T19:15:02.040170Z"
    },
    "id": "qVf23JsIi9ma",
    "papermill": {
     "duration": 1.344654,
     "end_time": "2025-03-31T19:15:02.043306",
     "exception": false,
     "start_time": "2025-03-31T19:15:00.698652",
     "status": "completed"
    },
    "tags": []
   },
   "outputs": [
    {
     "name": "stdout",
     "output_type": "stream",
     "text": [
      "## The Olive's Enduring Reign: Importance in Modern Society\n",
      "\n",
      "The olive, a small, unassuming fruit, holds a significance far exceeding its size. From the gnarled, ancient trees that bear it to the myriad ways it graces our tables and enriches our lives, the olive plays a surprisingly vital role in modern society. Its importance spans economic, nutritional, cultural, and even environmental domains, demonstrating its enduring relevance in a world constantly evolving.\n",
      "\n",
      "Economically, the olive industry is a global powerhouse. Major olive-producing countries like Spain, Italy, Greece, and Turkey are heavily reliant on olive oil production, processing, and trade. Millions of people depend on this sector for their livelihoods, from farmers cultivating the groves to workers in bottling plants and distributors navigating global markets. The olive industry creates jobs and generates significant revenue, contributing substantially to national economies. Furthermore, the diverse range of olive products – from table olives to olive oil-based cosmetics – fuels a vibrant global market, responding to\n"
     ]
    }
   ],
   "source": [
    "from google.genai import types\n",
    "\n",
    "short_config = types.GenerateContentConfig(max_output_tokens=200)\n",
    "\n",
    "response = client.models.generate_content(\n",
    "    model='gemini-2.0-flash',\n",
    "    config=short_config,\n",
    "    contents='Write a 1000 word essay on the importance of olives in modern society.')\n",
    "\n",
    "print(response.text)"
   ]
  },
  {
   "cell_type": "code",
   "execution_count": 14,
   "id": "975ec0e6",
   "metadata": {
    "execution": {
     "iopub.execute_input": "2025-03-31T19:15:02.071817Z",
     "iopub.status.busy": "2025-03-31T19:15:02.071467Z",
     "iopub.status.idle": "2025-03-31T19:15:02.818810Z",
     "shell.execute_reply": "2025-03-31T19:15:02.817702Z"
    },
    "id": "W-3kR2F5kdMR",
    "papermill": {
     "duration": 0.763595,
     "end_time": "2025-03-31T19:15:02.820882",
     "exception": false,
     "start_time": "2025-03-31T19:15:02.057287",
     "status": "completed"
    },
    "tags": []
   },
   "outputs": [
    {
     "name": "stdout",
     "output_type": "stream",
     "text": [
      "From ancient groves, a legacy remains,\n",
      "The humble olive, easing worldly pains.\n",
      "Pressed into oil, a heart-smart, golden gleam,\n",
      "Or brined and jarred, a culinary dream.\n",
      "\n",
      "On pizzas strewn, in salads bright and bold,\n",
      "A simple pleasure, stories to be told.\n",
      "A taste of sunshine, Mediterranean grace,\n",
      "The olive's presence brightens time and space.\n",
      "\n"
     ]
    }
   ],
   "source": [
    "response = client.models.generate_content(\n",
    "    model='gemini-2.0-flash',\n",
    "    config=short_config,\n",
    "    contents='Write a short poem on the importance of olives in modern society.')\n",
    "\n",
    "print(response.text)"
   ]
  },
  {
   "cell_type": "markdown",
   "id": "d4701e1e",
   "metadata": {
    "id": "3ZhDSLB6lqqB",
    "papermill": {
     "duration": 0.013306,
     "end_time": "2025-03-31T19:15:02.847842",
     "exception": false,
     "start_time": "2025-03-31T19:15:02.834536",
     "status": "completed"
    },
    "tags": []
   },
   "source": [
    "Explore with your own prompts. Try a prompt with a restrictive output limit and then adjust the prompt to work within that limit."
   ]
  },
  {
   "cell_type": "code",
   "execution_count": 15,
   "id": "5ed24e70",
   "metadata": {
    "execution": {
     "iopub.execute_input": "2025-03-31T19:15:02.876651Z",
     "iopub.status.busy": "2025-03-31T19:15:02.875964Z",
     "iopub.status.idle": "2025-03-31T19:15:04.505887Z",
     "shell.execute_reply": "2025-03-31T19:15:04.504922Z"
    },
    "papermill": {
     "duration": 1.646865,
     "end_time": "2025-03-31T19:15:04.508095",
     "exception": false,
     "start_time": "2025-03-31T19:15:02.861230",
     "status": "completed"
    },
    "tags": []
   },
   "outputs": [
    {
     "name": "stdout",
     "output_type": "stream",
     "text": [
      "## The Jewel of the Indian Ocean: Mauritius – A Symphony of Geography, Economy, and Culture\n",
      "\n",
      "Mauritius, a shimmering emerald isle nestled in the vast expanse of the Indian Ocean, is more than just a postcard-perfect destination. It’s a vibrant tapestry woven from diverse threads of geography, a burgeoning economy defying its limitations, and a rich, multifaceted culture shaped by centuries of migration and interaction. This island nation, a testament to resilience and adaptation, offers a compelling case study in how location, economic diversification, and cultural fusion can contribute to a unique and thriving society.\n",
      "\n",
      "Geographically, Mauritius owes its existence to volcanic activity. Formed millions of years ago, the island is characterized by a central plateau rising to a maximum altitude of 828 meters at Piton de la Petite Rivière Noire. This mountainous spine dominates the landscape, giving rise to numerous rivers and waterfalls that cascade down into the surrounding coastal plains. The island is encircled by a coral reef, creating a protected lagoon\n"
     ]
    }
   ],
   "source": [
    "my_prompt = 'Write me a 1000 words essay on Mauritius with aspects on geography, economy and culture.'\n",
    "\n",
    "my_response = client.models.generate_content(\n",
    "    model = 'gemini-2.0-flash', # set model name\n",
    "    config = short_config, # using same previous config\n",
    "    contents = my_prompt\n",
    ")\n",
    "\n",
    "print(my_response.text)"
   ]
  },
  {
   "cell_type": "markdown",
   "id": "3a61da9a",
   "metadata": {
    "papermill": {
     "duration": 0.01365,
     "end_time": "2025-03-31T19:15:04.535722",
     "exception": false,
     "start_time": "2025-03-31T19:15:04.522072",
     "status": "completed"
    },
    "tags": []
   },
   "source": [
    "Personal Note: As can be seen, my output was cut off due to the token-limit configuration. This works as expected. To work with token limit, prompt engineering techniques should be used such as specifying the length of output using \"small paragraph\" or \"Tweet length\"."
   ]
  },
  {
   "cell_type": "code",
   "execution_count": 16,
   "id": "8b045088",
   "metadata": {
    "execution": {
     "iopub.execute_input": "2025-03-31T19:15:04.565533Z",
     "iopub.status.busy": "2025-03-31T19:15:04.564718Z",
     "iopub.status.idle": "2025-03-31T19:15:05.866777Z",
     "shell.execute_reply": "2025-03-31T19:15:05.865654Z"
    },
    "papermill": {
     "duration": 1.319549,
     "end_time": "2025-03-31T19:15:05.869174",
     "exception": false,
     "start_time": "2025-03-31T19:15:04.549625",
     "status": "completed"
    },
    "tags": []
   },
   "outputs": [
    {
     "name": "stdout",
     "output_type": "stream",
     "text": [
      "Mauritius, a shimmering island nation in the Indian Ocean, is a tapestry woven from stunning geography, a vibrant economy, and a rich, multicultural heritage.  Its volcanic origins have gifted it with dramatic landscapes, ranging from pristine beaches and turquoise lagoons to lush, mountainous interiors and cascading waterfalls.  Beyond its natural beauty, Mauritius boasts a thriving economy, initially built on sugarcane production but now diversified with a strong focus on tourism, finance, and manufacturing. This economic success has fostered a diverse population, reflecting its historical ties to Europe, Africa, and Asia, resulting in a unique blend of cultures that are celebrated through its languages, cuisine, music, and vibrant festivals. Mauritius is more than just a picture-perfect paradise; it's a dynamic nation with a fascinating story to tell.\n",
      "\n"
     ]
    }
   ],
   "source": [
    "my_prompt_refined = 'Write me a short introduction on Mauritius with aspects on geography, economy and culture.'\n",
    "\n",
    "my_response = client.models.generate_content(\n",
    "    model = 'gemini-2.0-flash', # set model name\n",
    "    config = short_config, # using same previous config\n",
    "    contents = my_prompt_refined\n",
    ")\n",
    "\n",
    "print(my_response.text)"
   ]
  },
  {
   "cell_type": "markdown",
   "id": "743ece5e",
   "metadata": {
    "papermill": {
     "duration": 0.014164,
     "end_time": "2025-03-31T19:15:05.897862",
     "exception": false,
     "start_time": "2025-03-31T19:15:05.883698",
     "status": "completed"
    },
    "tags": []
   },
   "source": [
    "Personal Note: As I modified the prompt including the \"Short introduction\" words, the output is complete and within the token limits."
   ]
  },
  {
   "cell_type": "markdown",
   "id": "52dcc878",
   "metadata": {
    "id": "alx-WaAvir_9",
    "papermill": {
     "duration": 0.013185,
     "end_time": "2025-03-31T19:15:05.924592",
     "exception": false,
     "start_time": "2025-03-31T19:15:05.911407",
     "status": "completed"
    },
    "tags": []
   },
   "source": [
    "### Temperature\n",
    "\n",
    "Temperature controls the degree of randomness in token selection. Higher temperatures result in a higher number of candidate tokens from which the next output token is selected, and can produce more diverse results, while lower temperatures have the opposite effect, such that a temperature of 0 results in greedy decoding, selecting the most probable token at each step.\n",
    "\n",
    "Temperature doesn't provide any guarantees of randomness, but it can be used to \"nudge\" the output somewhat."
   ]
  },
  {
   "cell_type": "code",
   "execution_count": 17,
   "id": "d6a35de6",
   "metadata": {
    "execution": {
     "iopub.execute_input": "2025-03-31T19:15:05.952838Z",
     "iopub.status.busy": "2025-03-31T19:15:05.952442Z",
     "iopub.status.idle": "2025-03-31T19:15:07.079243Z",
     "shell.execute_reply": "2025-03-31T19:15:07.078183Z"
    },
    "id": "SHraGMzqnZqt",
    "papermill": {
     "duration": 1.14329,
     "end_time": "2025-03-31T19:15:07.081241",
     "exception": false,
     "start_time": "2025-03-31T19:15:05.937951",
     "status": "completed"
    },
    "tags": []
   },
   "outputs": [
    {
     "name": "stdout",
     "output_type": "stream",
     "text": [
      "Azure\n",
      " -------------------------\n",
      "Magenta.\n",
      " -------------------------\n",
      "Orange\n",
      " -------------------------\n",
      "Teal\n",
      " -------------------------\n",
      "Purple\n",
      " -------------------------\n"
     ]
    }
   ],
   "source": [
    "high_temp_config = types.GenerateContentConfig(temperature=2.0)\n",
    "\n",
    "\n",
    "for _ in range(5):\n",
    "  response = client.models.generate_content(\n",
    "      model='gemini-2.0-flash',\n",
    "      config=high_temp_config,\n",
    "      contents='Pick a random colour... (respond in a single word)')\n",
    "\n",
    "  if response.text:\n",
    "    print(response.text, '-' * 25)"
   ]
  },
  {
   "cell_type": "markdown",
   "id": "6f567c4b",
   "metadata": {
    "id": "z3J4pCTuof7e",
    "papermill": {
     "duration": 0.013832,
     "end_time": "2025-03-31T19:15:07.109273",
     "exception": false,
     "start_time": "2025-03-31T19:15:07.095441",
     "status": "completed"
    },
    "tags": []
   },
   "source": [
    "Now try the same prompt with temperature set to zero. Note that the output is not completely deterministic, as other parameters affect token selection, but the results will tend to be more stable."
   ]
  },
  {
   "cell_type": "code",
   "execution_count": 18,
   "id": "19ee21ee",
   "metadata": {
    "execution": {
     "iopub.execute_input": "2025-03-31T19:15:07.139310Z",
     "iopub.status.busy": "2025-03-31T19:15:07.138389Z",
     "iopub.status.idle": "2025-03-31T19:15:56.763015Z",
     "shell.execute_reply": "2025-03-31T19:15:56.762084Z"
    },
    "papermill": {
     "duration": 49.644604,
     "end_time": "2025-03-31T19:15:56.767836",
     "exception": false,
     "start_time": "2025-03-31T19:15:07.123232",
     "status": "completed"
    },
    "tags": []
   },
   "outputs": [
    {
     "name": "stdout",
     "output_type": "stream",
     "text": [
      "Azure\n",
      " -------------------------\n",
      "Azure\n",
      " -------------------------\n",
      "Azure\n",
      " -------------------------\n",
      "Azure\n",
      " -------------------------\n",
      "Azure\n",
      " -------------------------\n"
     ]
    }
   ],
   "source": [
    "low_temp_config = types.GenerateContentConfig(temperature=0)\n",
    "\n",
    "\n",
    "for _ in range(5):\n",
    "  response = client.models.generate_content(\n",
    "      model='gemini-2.0-flash',\n",
    "      config=low_temp_config,\n",
    "      contents='Pick a random colour... (respond in a single word)')\n",
    "\n",
    "  if response.text:\n",
    "    print(response.text, '-' * 25)"
   ]
  },
  {
   "cell_type": "markdown",
   "id": "863bb631",
   "metadata": {
    "id": "St5nt3vzitsZ",
    "papermill": {
     "duration": 0.013727,
     "end_time": "2025-03-31T19:15:56.795688",
     "exception": false,
     "start_time": "2025-03-31T19:15:56.781961",
     "status": "completed"
    },
    "tags": []
   },
   "source": [
    "### Top-P\n",
    "\n",
    "Like temperature, the top-P parameter is also used to control the diversity of the model's output.\n",
    "\n",
    "Top-P defines the probability threshold that, once cumulatively exceeded, tokens stop being selected as candidates. A top-P of 0 is typically equivalent to greedy decoding, and a top-P of 1 typically selects every token in the model's vocabulary.\n",
    "\n",
    "You may also see top-K referenced in LLM literature. Top-K is not configurable in the Gemini 2.0 series of models, but can be changed in older models. Top-K is a positive integer that defines the number of most probable tokens from which to select the output token. A top-K of 1 selects a single token, performing greedy decoding.\n",
    "\n",
    "\n",
    "Run this example a number of times, change the settings and observe the change in output."
   ]
  },
  {
   "cell_type": "code",
   "execution_count": 19,
   "id": "065572d5",
   "metadata": {
    "execution": {
     "iopub.execute_input": "2025-03-31T19:15:56.825622Z",
     "iopub.status.busy": "2025-03-31T19:15:56.825242Z",
     "iopub.status.idle": "2025-03-31T19:16:02.487210Z",
     "shell.execute_reply": "2025-03-31T19:16:02.486160Z"
    },
    "id": "lPlzpEavUV8F",
    "papermill": {
     "duration": 5.679578,
     "end_time": "2025-03-31T19:16:02.489367",
     "exception": false,
     "start_time": "2025-03-31T19:15:56.809789",
     "status": "completed"
    },
    "tags": []
   },
   "outputs": [
    {
     "name": "stdout",
     "output_type": "stream",
     "text": [
      "Clementine was no ordinary cat. While other felines contentedly napped in sunbeams and chased dust bunnies, Clementine dreamt of faraway lands. She was a calico of uncommon curiosity, her emerald eyes always scanning the horizon of her suburban backyard, imagining it stretching into a boundless wilderness.\n",
      "\n",
      "One day, a particularly strong gust of wind rattled the garden fence, dislodging a loose board. Clementine, startled awake from a sun-drenched doze, saw her chance. A sliver of the unknown beckoned, a fragrant invitation carried on the breeze. Without a second thought, she slipped through the gap.\n",
      "\n",
      "The world outside was a riot of scents and sounds. Cars roared like metallic beasts, squirrels chattered secrets in the trees, and the tantalizing aroma of grilling meat wafted from unseen houses. Clementine, emboldened by her newfound freedom, padded along the sidewalk, her tail held high like a furry flag.\n",
      "\n",
      "Her adventure began in earnest when she stumbled upon a bustling park. Children squealed, dogs barked, and pigeons strutted about with an air of brazen arrogance. Clementine, a natural hunter, couldn't resist the allure of the feathered fiends. She stalked them through the manicured lawns, her body low to the ground, her eyes narrowed in predatory focus.\n",
      "\n",
      "The pigeons, however, were seasoned park veterans. They took flight with a flurry of feathers, leaving Clementine frustrated and empty-pawed. Determined to find a worthy challenge, she ventured deeper into the park, where the manicured lawns gave way to a wilder, more untamed section.\n",
      "\n",
      "There, she encountered a wise old tomcat, his fur scarred and matted, his eyes filled with the knowledge of the streets. He was perched on a gnarled oak, watching the world go by with a serene expression.\n",
      "\n",
      "\"Well, well,\" he purred, his voice raspy. \"Another house cat lost in the wilderness.\"\n",
      "\n",
      "Clementine bristled. \"I'm not lost,\" she declared. \"I'm on an adventure!\"\n",
      "\n",
      "The tomcat chuckled. \"An adventure, eh? Then you'll need a guide. Call me Ol' Whiskers.\"\n",
      "\n",
      "Ol' Whiskers became Clementine's mentor, showing her the hidden pathways of the park, the secret watering holes, and the best spots for catching field mice. He taught her the language of the birds, the rhythm of the squirrels, and the subtle art of surviving on her wits.\n",
      "\n",
      "Days turned into weeks. Clementine learned to fend for herself, to navigate the park's intricate network of trails, and to respect the wildness that surrounded her. She even managed to catch a few pigeons, though she admitted they were far more trouble than they were worth.\n",
      "\n",
      "But as the leaves began to turn brown and a chill crept into the air, Clementine felt a pang of longing for her warm bed and her human's gentle touch. She missed the familiar scent of her home and the comforting routine of her life.\n",
      "\n",
      "She found Ol' Whiskers perched on his oak, the same serene expression on his face. \"I think it's time for me to go home,\" she said softly.\n",
      "\n",
      "Ol' Whiskers nodded. \"You've learned what you needed to learn. The wild is a beautiful thing, but home is where the heart is.\"\n",
      "\n",
      "He led her back to the broken fence, a silent guide in the twilight. Clementine squeezed through the gap, a changed cat. She was no longer just a pampered house pet; she was an adventurer, a survivor, a creature of the wild at heart.\n",
      "\n",
      "She padded up to her back door, meowing softly. The door opened, and her human scooped her up in a warm embrace. Clementine purred, burying her face in their familiar scent.\n",
      "\n",
      "As she drifted off to sleep that night, nestled in her favorite sunbeam, Clementine dreamt of faraway lands and daring adventures. She knew she would always be a house cat, but she also knew that a part of her would forever roam free, a calico explorer with a wild heart and a spirit that could never be truly tamed. The backyard fence, she noticed, had been fixed. But Clementine also knew, with a knowing twitch of her whiskers, that adventure could always be found, even within the confines of home. It was, after all, a matter of perspective. And Clementine, the adventurous calico, had learned to see the world with new eyes.\n",
      "\n"
     ]
    }
   ],
   "source": [
    "model_config = types.GenerateContentConfig(\n",
    "    # These are the default values for gemini-2.0-flash.\n",
    "    temperature=1.0,\n",
    "    top_p=0.95,\n",
    ")\n",
    "\n",
    "story_prompt = \"You are a creative writer. Write a short story about a cat who goes on an adventure.\"\n",
    "response = client.models.generate_content(\n",
    "    model='gemini-2.0-flash',\n",
    "    config=model_config,\n",
    "    contents=story_prompt)\n",
    "\n",
    "print(response.text)"
   ]
  },
  {
   "cell_type": "markdown",
   "id": "077f827f",
   "metadata": {
    "id": "rMrYs1koY6DX",
    "papermill": {
     "duration": 0.014118,
     "end_time": "2025-03-31T19:16:02.519420",
     "exception": false,
     "start_time": "2025-03-31T19:16:02.505302",
     "status": "completed"
    },
    "tags": []
   },
   "source": [
    "## Prompting\n",
    "\n",
    "This section contains some prompts from the chapter for you to try out directly in the API. Try changing the text here to see how each prompt performs with different instructions, more examples, or any other changes you can think of."
   ]
  },
  {
   "cell_type": "markdown",
   "id": "e81fb043",
   "metadata": {
    "id": "hhj_tQidZJP7",
    "papermill": {
     "duration": 0.013999,
     "end_time": "2025-03-31T19:16:02.547792",
     "exception": false,
     "start_time": "2025-03-31T19:16:02.533793",
     "status": "completed"
    },
    "tags": []
   },
   "source": [
    "### Zero-shot\n",
    "\n",
    "Zero-shot prompts are prompts that describe the request for the model directly.\n",
    "\n",
    "<table align=left>\n",
    "  <td>\n",
    "    <a target=\"_blank\" href=\"https://aistudio.google.com/prompts/1gzKKgDHwkAvexG5Up0LMtl1-6jKMKe4g\"><img src=\"https://ai.google.dev/site-assets/images/marketing/home/icon-ais.png\" style=\"height: 24px\" height=24/> Open in AI Studio</a>\n",
    "  </td>\n",
    "</table>"
   ]
  },
  {
   "cell_type": "code",
   "execution_count": 20,
   "id": "0ee84a15",
   "metadata": {
    "execution": {
     "iopub.execute_input": "2025-03-31T19:16:02.577814Z",
     "iopub.status.busy": "2025-03-31T19:16:02.577422Z",
     "iopub.status.idle": "2025-03-31T19:16:02.990521Z",
     "shell.execute_reply": "2025-03-31T19:16:02.989436Z"
    },
    "id": "1_t-cwnDZzbH",
    "papermill": {
     "duration": 0.430608,
     "end_time": "2025-03-31T19:16:02.992639",
     "exception": false,
     "start_time": "2025-03-31T19:16:02.562031",
     "status": "completed"
    },
    "tags": []
   },
   "outputs": [
    {
     "name": "stdout",
     "output_type": "stream",
     "text": [
      "POSITIVE\n",
      "\n"
     ]
    }
   ],
   "source": [
    "model_config = types.GenerateContentConfig(\n",
    "    temperature=0.1,\n",
    "    top_p=1,\n",
    "    max_output_tokens=5,\n",
    ")\n",
    "\n",
    "zero_shot_prompt = \"\"\"Classify movie reviews as POSITIVE, NEUTRAL or NEGATIVE.\n",
    "Review: \"Her\" is a disturbing study revealing the direction\n",
    "humanity is headed if AI is allowed to keep evolving,\n",
    "unchecked. I wish there were more movies like this masterpiece.\n",
    "Sentiment: \"\"\"\n",
    "\n",
    "response = client.models.generate_content(\n",
    "    model='gemini-2.0-flash',\n",
    "    config=model_config,\n",
    "    contents=zero_shot_prompt)\n",
    "\n",
    "print(response.text)"
   ]
  },
  {
   "cell_type": "markdown",
   "id": "3dc02833",
   "metadata": {
    "id": "3b5568bdeb11",
    "papermill": {
     "duration": 0.013946,
     "end_time": "2025-03-31T19:16:03.021105",
     "exception": false,
     "start_time": "2025-03-31T19:16:03.007159",
     "status": "completed"
    },
    "tags": []
   },
   "source": [
    "#### Enum mode\n",
    "\n",
    "The models are trained to generate text, and while the Gemini 2.0 models are great at following instructions, other models can sometimes produce more text than you may wish for. In the preceding example, the model will output the label, but sometimes it can include a preceding \"Sentiment\" label, and without an output token limit, it may also add explanatory text afterwards. See [this prompt in AI Studio](https://aistudio.google.com/prompts/1gzKKgDHwkAvexG5Up0LMtl1-6jKMKe4g) for an example.\n",
    "\n",
    "The Gemini API has an [Enum mode](https://github.com/google-gemini/cookbook/blob/main/quickstarts/Enum.ipynb) feature that allows you to constrain the output to a fixed set of values."
   ]
  },
  {
   "cell_type": "code",
   "execution_count": 21,
   "id": "71a245bf",
   "metadata": {
    "execution": {
     "iopub.execute_input": "2025-03-31T19:16:03.052009Z",
     "iopub.status.busy": "2025-03-31T19:16:03.051055Z",
     "iopub.status.idle": "2025-03-31T19:16:03.539172Z",
     "shell.execute_reply": "2025-03-31T19:16:03.538170Z"
    },
    "id": "ad118a56c598",
    "papermill": {
     "duration": 0.506004,
     "end_time": "2025-03-31T19:16:03.541343",
     "exception": false,
     "start_time": "2025-03-31T19:16:03.035339",
     "status": "completed"
    },
    "tags": []
   },
   "outputs": [
    {
     "name": "stdout",
     "output_type": "stream",
     "text": [
      "positive\n"
     ]
    }
   ],
   "source": [
    "import enum\n",
    "\n",
    "class Sentiment(enum.Enum):\n",
    "    POSITIVE = \"positive\"\n",
    "    NEUTRAL = \"neutral\"\n",
    "    NEGATIVE = \"negative\"\n",
    "\n",
    "\n",
    "response = client.models.generate_content(\n",
    "    model='gemini-2.0-flash',\n",
    "    config=types.GenerateContentConfig(\n",
    "        response_mime_type=\"text/x.enum\",\n",
    "        response_schema=Sentiment\n",
    "    ),\n",
    "    contents=zero_shot_prompt)\n",
    "\n",
    "print(response.text)"
   ]
  },
  {
   "cell_type": "markdown",
   "id": "06b6ae3c",
   "metadata": {
    "papermill": {
     "duration": 0.014435,
     "end_time": "2025-03-31T19:16:03.570518",
     "exception": false,
     "start_time": "2025-03-31T19:16:03.556083",
     "status": "completed"
    },
    "tags": []
   },
   "source": [
    "When using constrained output like an enum, the Python SDK will attempt to convert the model's text response into a Python object automatically. It's stored in the `response.parsed` field."
   ]
  },
  {
   "cell_type": "code",
   "execution_count": 22,
   "id": "1cabd3a3",
   "metadata": {
    "execution": {
     "iopub.execute_input": "2025-03-31T19:16:03.601234Z",
     "iopub.status.busy": "2025-03-31T19:16:03.600858Z",
     "iopub.status.idle": "2025-03-31T19:16:03.605696Z",
     "shell.execute_reply": "2025-03-31T19:16:03.604812Z"
    },
    "papermill": {
     "duration": 0.02313,
     "end_time": "2025-03-31T19:16:03.608172",
     "exception": false,
     "start_time": "2025-03-31T19:16:03.585042",
     "status": "completed"
    },
    "tags": []
   },
   "outputs": [
    {
     "name": "stdout",
     "output_type": "stream",
     "text": [
      "Sentiment.POSITIVE\n",
      "<enum 'Sentiment'>\n"
     ]
    }
   ],
   "source": [
    "enum_response = response.parsed\n",
    "print(enum_response)\n",
    "print(type(enum_response))"
   ]
  },
  {
   "cell_type": "markdown",
   "id": "ee3996a3",
   "metadata": {
    "id": "0udiSwNbv45W",
    "papermill": {
     "duration": 0.014169,
     "end_time": "2025-03-31T19:16:03.637278",
     "exception": false,
     "start_time": "2025-03-31T19:16:03.623109",
     "status": "completed"
    },
    "tags": []
   },
   "source": [
    "### One-shot and few-shot\n",
    "\n",
    "Providing an example of the expected response is known as a \"one-shot\" prompt. When you provide multiple examples, it is a \"few-shot\" prompt.\n",
    "\n",
    "<table align=left>\n",
    "  <td>\n",
    "    <a target=\"_blank\" href=\"https://aistudio.google.com/prompts/1jjWkjUSoMXmLvMJ7IzADr_GxHPJVV2bg\"><img src=\"https://ai.google.dev/site-assets/images/marketing/home/icon-ais.png\" style=\"height: 24px\" height=24/> Open in AI Studio</a>\n",
    "  </td>\n",
    "</table>\n"
   ]
  },
  {
   "cell_type": "code",
   "execution_count": 23,
   "id": "8a7f7063",
   "metadata": {
    "execution": {
     "iopub.execute_input": "2025-03-31T19:16:03.667840Z",
     "iopub.status.busy": "2025-03-31T19:16:03.667429Z",
     "iopub.status.idle": "2025-03-31T19:16:04.192200Z",
     "shell.execute_reply": "2025-03-31T19:16:04.191098Z"
    },
    "id": "hd4mVUukwOKZ",
    "papermill": {
     "duration": 0.542742,
     "end_time": "2025-03-31T19:16:04.194444",
     "exception": false,
     "start_time": "2025-03-31T19:16:03.651702",
     "status": "completed"
    },
    "tags": []
   },
   "outputs": [
    {
     "name": "stdout",
     "output_type": "stream",
     "text": [
      "```json\n",
      "{\n",
      "\"size\": \"large\",\n",
      "\"type\": \"normal\",\n",
      "\"ingredients\": [\"cheese\", \"pineapple\"]\n",
      "}\n",
      "```\n",
      "\n"
     ]
    }
   ],
   "source": [
    "few_shot_prompt = \"\"\"Parse a customer's pizza order into valid JSON:\n",
    "\n",
    "EXAMPLE:\n",
    "I want a small pizza with cheese, tomato sauce, and pepperoni.\n",
    "JSON Response:\n",
    "```\n",
    "{\n",
    "\"size\": \"small\",\n",
    "\"type\": \"normal\",\n",
    "\"ingredients\": [\"cheese\", \"tomato sauce\", \"pepperoni\"]\n",
    "}\n",
    "```\n",
    "\n",
    "EXAMPLE:\n",
    "Can I get a large pizza with tomato sauce, basil and mozzarella\n",
    "JSON Response:\n",
    "```\n",
    "{\n",
    "\"size\": \"large\",\n",
    "\"type\": \"normal\",\n",
    "\"ingredients\": [\"tomato sauce\", \"basil\", \"mozzarella\"]\n",
    "}\n",
    "```\n",
    "\n",
    "ORDER:\n",
    "\"\"\"\n",
    "\n",
    "customer_order = \"Give me a large with cheese & pineapple\"\n",
    "\n",
    "response = client.models.generate_content(\n",
    "    model='gemini-2.0-flash',\n",
    "    config=types.GenerateContentConfig(\n",
    "        temperature=0.1,\n",
    "        top_p=1,\n",
    "        max_output_tokens=250,\n",
    "    ),\n",
    "    contents=[few_shot_prompt, customer_order])\n",
    "\n",
    "print(response.text)"
   ]
  },
  {
   "cell_type": "markdown",
   "id": "6e56d9a1",
   "metadata": {
    "id": "021293096f08",
    "papermill": {
     "duration": 0.014634,
     "end_time": "2025-03-31T19:16:04.224296",
     "exception": false,
     "start_time": "2025-03-31T19:16:04.209662",
     "status": "completed"
    },
    "tags": []
   },
   "source": [
    "#### JSON mode\n",
    "\n",
    "To provide control over the schema, and to ensure that you only receive JSON (with no other text or markdown), you can use the Gemini API's [JSON mode](https://github.com/google-gemini/cookbook/blob/main/quickstarts/JSON_mode.ipynb). This forces the model to constrain decoding, such that token selection is guided by the supplied schema."
   ]
  },
  {
   "cell_type": "code",
   "execution_count": 24,
   "id": "7af6a556",
   "metadata": {
    "execution": {
     "iopub.execute_input": "2025-03-31T19:16:04.255399Z",
     "iopub.status.busy": "2025-03-31T19:16:04.255033Z",
     "iopub.status.idle": "2025-03-31T19:16:04.872996Z",
     "shell.execute_reply": "2025-03-31T19:16:04.871917Z"
    },
    "id": "50fbf0260912",
    "papermill": {
     "duration": 0.635946,
     "end_time": "2025-03-31T19:16:04.875029",
     "exception": false,
     "start_time": "2025-03-31T19:16:04.239083",
     "status": "completed"
    },
    "tags": []
   },
   "outputs": [
    {
     "name": "stdout",
     "output_type": "stream",
     "text": [
      "{\n",
      "  \"size\": \"large\",\n",
      "  \"ingredients\": [\"apple\", \"chocolate\"],\n",
      "  \"type\": \"dessert\"\n",
      "}\n"
     ]
    }
   ],
   "source": [
    "import typing_extensions as typing\n",
    "\n",
    "class PizzaOrder(typing.TypedDict):\n",
    "    size: str\n",
    "    ingredients: list[str]\n",
    "    type: str\n",
    "\n",
    "\n",
    "response = client.models.generate_content(\n",
    "    model='gemini-2.0-flash',\n",
    "    config=types.GenerateContentConfig(\n",
    "        temperature=0.1,\n",
    "        response_mime_type=\"application/json\",\n",
    "        response_schema=PizzaOrder,\n",
    "    ),\n",
    "    contents=\"Can I have a large dessert pizza with apple and chocolate\")\n",
    "\n",
    "print(response.text)"
   ]
  },
  {
   "cell_type": "markdown",
   "id": "d1382414",
   "metadata": {
    "id": "4a93e338e57c",
    "papermill": {
     "duration": 0.014475,
     "end_time": "2025-03-31T19:16:04.904187",
     "exception": false,
     "start_time": "2025-03-31T19:16:04.889712",
     "status": "completed"
    },
    "tags": []
   },
   "source": [
    "### Chain of Thought (CoT)\n",
    "\n",
    "Direct prompting on LLMs can return answers quickly and (in terms of output token usage) efficiently, but they can be prone to hallucination. The answer may \"look\" correct (in terms of language and syntax) but is incorrect in terms of factuality and reasoning.\n",
    "\n",
    "Chain-of-Thought prompting is a technique where you instruct the model to output intermediate reasoning steps, and it typically gets better results, especially when combined with few-shot examples. It is worth noting that this technique doesn't completely eliminate hallucinations, and that it tends to cost more to run, due to the increased token count.\n",
    "\n",
    "Models like the Gemini family are trained to be \"chatty\" or \"thoughtful\" and will provide reasoning steps without prompting, so for this simple example you can ask the model to be more direct in the prompt to force a non-reasoning response. Try re-running this step if the model gets lucky and gets the answer correct on the first try."
   ]
  },
  {
   "cell_type": "code",
   "execution_count": 25,
   "id": "e0d9e9f7",
   "metadata": {
    "execution": {
     "iopub.execute_input": "2025-03-31T19:16:04.934730Z",
     "iopub.status.busy": "2025-03-31T19:16:04.934363Z",
     "iopub.status.idle": "2025-03-31T19:16:05.357016Z",
     "shell.execute_reply": "2025-03-31T19:16:05.356049Z"
    },
    "id": "5715555db1c1",
    "papermill": {
     "duration": 0.44056,
     "end_time": "2025-03-31T19:16:05.359197",
     "exception": false,
     "start_time": "2025-03-31T19:16:04.918637",
     "status": "completed"
    },
    "tags": []
   },
   "outputs": [
    {
     "name": "stdout",
     "output_type": "stream",
     "text": [
      "52\n",
      "\n"
     ]
    }
   ],
   "source": [
    "prompt = \"\"\"When I was 4 years old, my partner was 3 times my age. Now, I\n",
    "am 20 years old. How old is my partner? Return the answer directly.\"\"\"\n",
    "\n",
    "response = client.models.generate_content(\n",
    "    model='gemini-2.0-flash',\n",
    "    contents=prompt)\n",
    "\n",
    "print(response.text)"
   ]
  },
  {
   "cell_type": "markdown",
   "id": "1d2cba12",
   "metadata": {
    "id": "e12b19677bfd",
    "papermill": {
     "duration": 0.014653,
     "end_time": "2025-03-31T19:16:05.388933",
     "exception": false,
     "start_time": "2025-03-31T19:16:05.374280",
     "status": "completed"
    },
    "tags": []
   },
   "source": [
    "Now try the same approach, but indicate to the model that it should \"think step by step\"."
   ]
  },
  {
   "cell_type": "code",
   "execution_count": 26,
   "id": "f7004bf8",
   "metadata": {
    "execution": {
     "iopub.execute_input": "2025-03-31T19:16:05.420072Z",
     "iopub.status.busy": "2025-03-31T19:16:05.419271Z",
     "iopub.status.idle": "2025-03-31T19:16:06.279474Z",
     "shell.execute_reply": "2025-03-31T19:16:06.278482Z"
    },
    "id": "ffd7536a481f",
    "papermill": {
     "duration": 0.878014,
     "end_time": "2025-03-31T19:16:06.281556",
     "exception": false,
     "start_time": "2025-03-31T19:16:05.403542",
     "status": "completed"
    },
    "tags": []
   },
   "outputs": [
    {
     "data": {
      "text/markdown": [
       "Here's how to solve the problem step-by-step:\n",
       "\n",
       "1. **Find the age difference:** When you were 4, your partner was 3 times your age, so they were 4 * 3 = 12 years old.\n",
       "2. **Calculate the age difference:** The age difference between you and your partner is 12 - 4 = 8 years.\n",
       "3. **Determine the partner's current age:** Since your partner is 8 years older than you, and you are now 20, your partner is currently 20 + 8 = 28 years old.\n",
       "\n",
       "**Answer:** Your partner is 28 years old.\n"
      ],
      "text/plain": [
       "<IPython.core.display.Markdown object>"
      ]
     },
     "execution_count": 26,
     "metadata": {},
     "output_type": "execute_result"
    }
   ],
   "source": [
    "prompt = \"\"\"When I was 4 years old, my partner was 3 times my age. Now,\n",
    "I am 20 years old. How old is my partner? Let's think step by step.\"\"\"\n",
    "\n",
    "response = client.models.generate_content(\n",
    "    model='gemini-2.0-flash',\n",
    "    contents=prompt)\n",
    "\n",
    "Markdown(response.text)"
   ]
  },
  {
   "cell_type": "code",
   "execution_count": 27,
   "id": "170b362d",
   "metadata": {
    "execution": {
     "iopub.execute_input": "2025-03-31T19:16:06.313750Z",
     "iopub.status.busy": "2025-03-31T19:16:06.312861Z",
     "iopub.status.idle": "2025-03-31T19:16:06.969017Z",
     "shell.execute_reply": "2025-03-31T19:16:06.967962Z"
    },
    "papermill": {
     "duration": 0.674355,
     "end_time": "2025-03-31T19:16:06.970996",
     "exception": false,
     "start_time": "2025-03-31T19:16:06.296641",
     "status": "completed"
    },
    "tags": []
   },
   "outputs": [
    {
     "data": {
      "text/markdown": [
       "Okay, let's count them:\n",
       "\n",
       "1.  **Str**awberry - one 'r'\n",
       "2.  St**r**awberry - two 'r'\n",
       "3.  Strawbe**rr**y - three 'r'\n",
       "4.  Strawber**r**y - four 'r'\n",
       "\n",
       "There are **four** 'r's in the word \"Strawberry\".\n"
      ],
      "text/plain": [
       "<IPython.core.display.Markdown object>"
      ]
     },
     "execution_count": 27,
     "metadata": {},
     "output_type": "execute_result"
    }
   ],
   "source": [
    "personal_prompt = \"\"\"How many 'r' are there in the word 'Strawberry'? Let's think step by step.\"\"\"\n",
    "\n",
    "response = client.models.generate_content(\n",
    "    model='gemini-2.0-flash',\n",
    "    contents=personal_prompt)\n",
    "\n",
    "Markdown(response.text)"
   ]
  },
  {
   "cell_type": "markdown",
   "id": "029b4034",
   "metadata": {
    "id": "oiLgBQJj0V53",
    "papermill": {
     "duration": 0.014801,
     "end_time": "2025-03-31T19:16:07.001057",
     "exception": false,
     "start_time": "2025-03-31T19:16:06.986256",
     "status": "completed"
    },
    "tags": []
   },
   "source": [
    "### ReAct: Reason and act\n",
    "\n",
    "In this example you will run a ReAct prompt directly in the Gemini API and perform the searching steps yourself. As this prompt follows a well-defined structure, there are frameworks available that wrap the prompt into easier-to-use APIs that make tool calls automatically, such as the LangChain example from the \"Prompting\" whitepaper.\n",
    "\n",
    "To try this out with the Wikipedia search engine, check out the [Searching Wikipedia with ReAct](https://github.com/google-gemini/cookbook/blob/main/examples/Search_Wikipedia_using_ReAct.ipynb) cookbook example.\n",
    "\n",
    "\n",
    "> Note: The prompt and in-context examples used here are from [https://github.com/ysymyth/ReAct](https://github.com/ysymyth/ReAct) which is published under an [MIT license](https://opensource.org/licenses/MIT), Copyright (c) 2023 Shunyu Yao.\n",
    "\n",
    "<table align=left>\n",
    "  <td>\n",
    "    <a target=\"_blank\" href=\"https://aistudio.google.com/prompts/18oo63Lwosd-bQ6Ay51uGogB3Wk3H8XMO\"><img src=\"https://ai.google.dev/site-assets/images/marketing/home/icon-ais.png\" style=\"height: 24px\" height=24/> Open in AI Studio</a>\n",
    "  </td>\n",
    "</table>\n"
   ]
  },
  {
   "cell_type": "code",
   "execution_count": 28,
   "id": "69d2cb2d",
   "metadata": {
    "execution": {
     "iopub.execute_input": "2025-03-31T19:16:07.032731Z",
     "iopub.status.busy": "2025-03-31T19:16:07.031895Z",
     "iopub.status.idle": "2025-03-31T19:16:07.038246Z",
     "shell.execute_reply": "2025-03-31T19:16:07.037356Z"
    },
    "id": "cBgyNJ5z0VSs",
    "papermill": {
     "duration": 0.023946,
     "end_time": "2025-03-31T19:16:07.039989",
     "exception": false,
     "start_time": "2025-03-31T19:16:07.016043",
     "status": "completed"
    },
    "tags": []
   },
   "outputs": [],
   "source": [
    "model_instructions = \"\"\"\n",
    "Solve a question answering task with interleaving Thought, Action, Observation steps. Thought can reason about the current situation,\n",
    "Observation is understanding relevant information from an Action's output and Action can be one of three types:\n",
    " (1) <search>entity</search>, which searches the exact entity on Wikipedia and returns the first paragraph if it exists. If not, it\n",
    "     will return some similar entities to search and you can try to search the information from those topics.\n",
    " (2) <lookup>keyword</lookup>, which returns the next sentence containing keyword in the current context. This only does exact matches,\n",
    "     so keep your searches short.\n",
    " (3) <finish>answer</finish>, which returns the answer and finishes the task.\n",
    "\"\"\"\n",
    "\n",
    "example1 = \"\"\"Question\n",
    "Musician and satirist Allie Goertz wrote a song about the \"The Simpsons\" character Milhouse, who Matt Groening named after who?\n",
    "\n",
    "Thought 1\n",
    "The question simplifies to \"The Simpsons\" character Milhouse is named after who. I only need to search Milhouse and find who it is named after.\n",
    "\n",
    "Action 1\n",
    "<search>Milhouse</search>\n",
    "\n",
    "Observation 1\n",
    "Milhouse Mussolini Van Houten is a recurring character in the Fox animated television series The Simpsons voiced by Pamela Hayden and created by Matt Groening.\n",
    "\n",
    "Thought 2\n",
    "The paragraph does not tell who Milhouse is named after, maybe I can look up \"named after\".\n",
    "\n",
    "Action 2\n",
    "<lookup>named after</lookup>\n",
    "\n",
    "Observation 2\n",
    "Milhouse was named after U.S. president Richard Nixon, whose middle name was Milhous.\n",
    "\n",
    "Thought 3\n",
    "Milhouse was named after U.S. president Richard Nixon, so the answer is Richard Nixon.\n",
    "\n",
    "Action 3\n",
    "<finish>Richard Nixon</finish>\n",
    "\"\"\"\n",
    "\n",
    "example2 = \"\"\"Question\n",
    "What is the elevation range for the area that the eastern sector of the Colorado orogeny extends into?\n",
    "\n",
    "Thought 1\n",
    "I need to search Colorado orogeny, find the area that the eastern sector of the Colorado orogeny extends into, then find the elevation range of the area.\n",
    "\n",
    "Action 1\n",
    "<search>Colorado orogeny</search>\n",
    "\n",
    "Observation 1\n",
    "The Colorado orogeny was an episode of mountain building (an orogeny) in Colorado and surrounding areas.\n",
    "\n",
    "Thought 2\n",
    "It does not mention the eastern sector. So I need to look up eastern sector.\n",
    "\n",
    "Action 2\n",
    "<lookup>eastern sector</lookup>\n",
    "\n",
    "Observation 2\n",
    "The eastern sector extends into the High Plains and is called the Central Plains orogeny.\n",
    "\n",
    "Thought 3\n",
    "The eastern sector of Colorado orogeny extends into the High Plains. So I need to search High Plains and find its elevation range.\n",
    "\n",
    "Action 3\n",
    "<search>High Plains</search>\n",
    "\n",
    "Observation 3\n",
    "High Plains refers to one of two distinct land regions\n",
    "\n",
    "Thought 4\n",
    "I need to instead search High Plains (United States).\n",
    "\n",
    "Action 4\n",
    "<search>High Plains (United States)</search>\n",
    "\n",
    "Observation 4\n",
    "The High Plains are a subregion of the Great Plains. From east to west, the High Plains rise in elevation from around 1,800 to 7,000 ft (550 to 2,130m).\n",
    "\n",
    "Thought 5\n",
    "High Plains rise in elevation from around 1,800 to 7,000 ft, so the answer is 1,800 to 7,000 ft.\n",
    "\n",
    "Action 5\n",
    "<finish>1,800 to 7,000 ft</finish>\n",
    "\"\"\"\n",
    "\n",
    "# Come up with more examples yourself, or take a look through https://github.com/ysymyth/ReAct/"
   ]
  },
  {
   "cell_type": "markdown",
   "id": "6a37a2d3",
   "metadata": {
    "id": "C3wbfstjTgey",
    "papermill": {
     "duration": 0.014481,
     "end_time": "2025-03-31T19:16:07.069324",
     "exception": false,
     "start_time": "2025-03-31T19:16:07.054843",
     "status": "completed"
    },
    "tags": []
   },
   "source": [
    "To capture a single step at a time, while ignoring any hallucinated Observation steps, you will use `stop_sequences` to end the generation process. The steps are `Thought`, `Action`, `Observation`, in that order."
   ]
  },
  {
   "cell_type": "code",
   "execution_count": 29,
   "id": "00183101",
   "metadata": {
    "execution": {
     "iopub.execute_input": "2025-03-31T19:16:07.101004Z",
     "iopub.status.busy": "2025-03-31T19:16:07.100163Z",
     "iopub.status.idle": "2025-03-31T19:16:07.724037Z",
     "shell.execute_reply": "2025-03-31T19:16:07.723031Z"
    },
    "id": "8mxrXRkRTdXm",
    "papermill": {
     "duration": 0.642128,
     "end_time": "2025-03-31T19:16:07.726397",
     "exception": false,
     "start_time": "2025-03-31T19:16:07.084269",
     "status": "completed"
    },
    "tags": []
   },
   "outputs": [
    {
     "name": "stdout",
     "output_type": "stream",
     "text": [
      "Thought 1\n",
      "I need to find the transformers NLP paper, identify the authors and then determine the youngest author from the listed authors.\n",
      "\n",
      "Action 1\n",
      "<search>transformers NLP paper</search>\n",
      "\n"
     ]
    }
   ],
   "source": [
    "question = \"\"\"Question\n",
    "Who was the youngest author listed on the transformers NLP paper?\n",
    "\"\"\"\n",
    "\n",
    "# You will perform the Action; so generate up to, but not including, the Observation.\n",
    "react_config = types.GenerateContentConfig(\n",
    "    stop_sequences=[\"\\nObservation\"],\n",
    "    system_instruction=model_instructions + example1 + example2,\n",
    ")\n",
    "\n",
    "# Create a chat that has the model instructions and examples pre-seeded.\n",
    "react_chat = client.chats.create(\n",
    "    model='gemini-2.0-flash',\n",
    "    config=react_config,\n",
    ")\n",
    "\n",
    "resp = react_chat.send_message(question)\n",
    "print(resp.text)"
   ]
  },
  {
   "cell_type": "markdown",
   "id": "329057a4",
   "metadata": {
    "id": "aW2PIdLbVv3l",
    "papermill": {
     "duration": 0.015783,
     "end_time": "2025-03-31T19:16:07.758369",
     "exception": false,
     "start_time": "2025-03-31T19:16:07.742586",
     "status": "completed"
    },
    "tags": []
   },
   "source": [
    "Now you can perform this research yourself and supply it back to the model."
   ]
  },
  {
   "cell_type": "code",
   "execution_count": 30,
   "id": "54ee9775",
   "metadata": {
    "execution": {
     "iopub.execute_input": "2025-03-31T19:16:07.791329Z",
     "iopub.status.busy": "2025-03-31T19:16:07.790333Z",
     "iopub.status.idle": "2025-03-31T19:16:08.731418Z",
     "shell.execute_reply": "2025-03-31T19:16:08.730475Z"
    },
    "id": "mLMc0DZaV9g2",
    "papermill": {
     "duration": 0.959659,
     "end_time": "2025-03-31T19:16:08.733566",
     "exception": false,
     "start_time": "2025-03-31T19:16:07.773907",
     "status": "completed"
    },
    "tags": []
   },
   "outputs": [
    {
     "name": "stdout",
     "output_type": "stream",
     "text": [
      "Thought 2\n",
      "The paper is titled \"Attention Is All You Need\" and the authors are Ashish Vaswani, Noam Shazeer, Niki Parmar, Jakob Uszkoreit, Llion Jones, Aidan N. Gomez, Lukasz Kaiser, Illia Polosukhin. I need to find their ages. Since I can not search for multiple names in one turn, I should check for the least common names first.\n",
      "\n",
      "Action 2\n",
      "<search>Aidan N. Gomez age</search>\n",
      "\n"
     ]
    }
   ],
   "source": [
    "observation = \"\"\"Observation 1\n",
    "[1706.03762] Attention Is All You Need\n",
    "Ashish Vaswani, Noam Shazeer, Niki Parmar, Jakob Uszkoreit, Llion Jones, Aidan N. Gomez, Lukasz Kaiser, Illia Polosukhin\n",
    "We propose a new simple network architecture, the Transformer, based solely on attention mechanisms, dispensing with recurrence and convolutions entirely.\n",
    "\"\"\"\n",
    "resp = react_chat.send_message(observation)\n",
    "print(resp.text)"
   ]
  },
  {
   "cell_type": "markdown",
   "id": "b7743392",
   "metadata": {
    "id": "bo0tzf4nX6dA",
    "papermill": {
     "duration": 0.015297,
     "end_time": "2025-03-31T19:16:08.763910",
     "exception": false,
     "start_time": "2025-03-31T19:16:08.748613",
     "status": "completed"
    },
    "tags": []
   },
   "source": [
    "This process repeats until the `<finish>` action is reached. You can continue running this yourself if you like, or try the [Wikipedia example](https://github.com/google-gemini/cookbook/blob/main/examples/Search_Wikipedia_using_ReAct.ipynb) to see a fully automated ReAct system at work."
   ]
  },
  {
   "cell_type": "markdown",
   "id": "25eeb6fb",
   "metadata": {
    "papermill": {
     "duration": 0.014682,
     "end_time": "2025-03-31T19:16:08.793621",
     "exception": false,
     "start_time": "2025-03-31T19:16:08.778939",
     "status": "completed"
    },
    "tags": []
   },
   "source": [
    "## Thinking mode\n",
    "\n",
    "The experiemental Gemini Flash 2.0 \"Thinking\" model has been trained to generate the \"thinking process\" the model goes through as part of its response. As a result, the Flash Thinking model is capable of stronger reasoning capabilities in its responses.\n",
    "\n",
    "Using a \"thinking mode\" model can provide you with high-quality responses without needing specialised prompting like the previous approaches. One reason this technique is effective is that you induce the model to generate relevant information (\"brainstorming\", or \"thoughts\") that is then used as part of the context in which the final response is generated.\n",
    "\n",
    "Note that when you use the API, you get the final response from the model, but the thoughts are not captured. To see the intermediate thoughts, try out [the thinking mode model in AI Studio](https://aistudio.google.com/prompts/new_chat?model=gemini-2.0-flash-thinking-exp-01-21).\n",
    "\n",
    "<table align=left>\n",
    "  <td>\n",
    "    <a target=\"_blank\" href=\"https://aistudio.google.com/prompts/1Z991SV7lZZZqioOiqIUPv9a9ix-ws4zk\"><img src=\"https://ai.google.dev/site-assets/images/marketing/home/icon-ais.png\" style=\"height: 24px\" height=24/> Open in AI Studio</a>\n",
    "  </td>\n",
    "</table>"
   ]
  },
  {
   "cell_type": "code",
   "execution_count": 31,
   "id": "0067f1a0",
   "metadata": {
    "execution": {
     "iopub.execute_input": "2025-03-31T19:16:08.825545Z",
     "iopub.status.busy": "2025-03-31T19:16:08.825199Z",
     "iopub.status.idle": "2025-03-31T19:16:17.017873Z",
     "shell.execute_reply": "2025-03-31T19:16:17.016852Z"
    },
    "papermill": {
     "duration": 8.211052,
     "end_time": "2025-03-31T19:16:17.019876",
     "exception": false,
     "start_time": "2025-03-31T19:16:08.808824",
     "status": "completed"
    },
    "tags": []
   },
   "outputs": [
    {
     "data": {
      "text/markdown": [
       "The youngest author listed on the \"Attention is All You Need\" paper (the foundational paper for Transformers in NLP) is **Aidan N. Gomez**.\n",
       "\n",
       "While it's difficult to know the exact birthdates of all authors to definitively say who is *absolutely* the youngest, based on publicly available information and career stage at the time of publication, Aidan N. Gomez was likely the youngest.\n",
       "\n",
       "Here's why:\n",
       "\n",
       "* **Aidan N. Gomez** was a PhD student at the University of Oxford at the time of the paper's publication (2017). PhD students are generally younger than researchers who have completed their doctorates and are working in research positions at companies like Google Brain (where most of the other authors worked).\n",
       "\n",
       "The other authors, while potentially close in age, were generally more established researchers at Google Brain:\n",
       "\n",
       "* **Ashish Vaswani, Noam Shazeer, Niki Parmar, Jakob Uszkoreit, Llion Jones, Łukasz Kaiser, and Illia Polosukhin** were all researchers at Google Brain or affiliated with Google at the time.  Researchers in such roles typically have completed their PhDs and have some years of experience.\n",
       "\n",
       "Therefore, based on typical career trajectories and the information available, **Aidan N. Gomez** is highly likely to be the youngest author on the \"Attention is All You Need\" paper."
      ],
      "text/plain": [
       "<IPython.core.display.Markdown object>"
      ]
     },
     "execution_count": 31,
     "metadata": {},
     "output_type": "execute_result"
    }
   ],
   "source": [
    "import io\n",
    "from IPython.display import Markdown, clear_output\n",
    "\n",
    "\n",
    "response = client.models.generate_content_stream(\n",
    "    model='gemini-2.0-flash-thinking-exp',\n",
    "    contents='Who was the youngest author listed on the transformers NLP paper?',\n",
    ")\n",
    "\n",
    "buf = io.StringIO()\n",
    "for chunk in response:\n",
    "    buf.write(chunk.text)\n",
    "    # Display the response as it is streamed\n",
    "    print(chunk.text, end='')\n",
    "\n",
    "# And then render the finished response as formatted markdown.\n",
    "clear_output()\n",
    "Markdown(buf.getvalue())"
   ]
  },
  {
   "cell_type": "markdown",
   "id": "8350942b",
   "metadata": {
    "id": "jPiZ_eIIaVPt",
    "papermill": {
     "duration": 0.015006,
     "end_time": "2025-03-31T19:16:17.050384",
     "exception": false,
     "start_time": "2025-03-31T19:16:17.035378",
     "status": "completed"
    },
    "tags": []
   },
   "source": [
    "## Code prompting"
   ]
  },
  {
   "cell_type": "markdown",
   "id": "269e3f46",
   "metadata": {
    "id": "ZinKamwXeR6C",
    "papermill": {
     "duration": 0.01484,
     "end_time": "2025-03-31T19:16:17.080306",
     "exception": false,
     "start_time": "2025-03-31T19:16:17.065466",
     "status": "completed"
    },
    "tags": []
   },
   "source": [
    "### Generating code\n",
    "\n",
    "The Gemini family of models can be used to generate code, configuration and scripts. Generating code can be helpful when learning to code, learning a new language or for rapidly generating a first draft.\n",
    "\n",
    "It's important to be aware that since LLMs can make mistakes, and can repeat training data, it's essential to read and test your code first, and comply with any relevant licenses.\n",
    "\n",
    "<table align=left>\n",
    "  <td>\n",
    "    <a target=\"_blank\" href=\"https://aistudio.google.com/prompts/1YX71JGtzDjXQkgdes8bP6i3oH5lCRKxv\"><img src=\"https://ai.google.dev/site-assets/images/marketing/home/icon-ais.png\" style=\"height: 24px\" height=24/> Open in AI Studio</a>\n",
    "  </td>\n",
    "</table>"
   ]
  },
  {
   "cell_type": "code",
   "execution_count": 32,
   "id": "2bb34f6f",
   "metadata": {
    "execution": {
     "iopub.execute_input": "2025-03-31T19:16:17.112999Z",
     "iopub.status.busy": "2025-03-31T19:16:17.112209Z",
     "iopub.status.idle": "2025-03-31T19:16:17.815352Z",
     "shell.execute_reply": "2025-03-31T19:16:17.814303Z"
    },
    "id": "fOQP9pqmeUO1",
    "papermill": {
     "duration": 0.72166,
     "end_time": "2025-03-31T19:16:17.817260",
     "exception": false,
     "start_time": "2025-03-31T19:16:17.095600",
     "status": "completed"
    },
    "tags": []
   },
   "outputs": [
    {
     "data": {
      "text/markdown": [
       "```python\n",
       "def factorial(n):\n",
       "  \"\"\"\n",
       "  Calculate the factorial of a non-negative integer.\n",
       "\n",
       "  Args:\n",
       "    n: A non-negative integer.\n",
       "\n",
       "  Returns:\n",
       "    The factorial of n.\n",
       "  \"\"\"\n",
       "  if n == 0:\n",
       "    return 1\n",
       "  else:\n",
       "    return n * factorial(n-1)\n",
       "```"
      ],
      "text/plain": [
       "<IPython.core.display.Markdown object>"
      ]
     },
     "execution_count": 32,
     "metadata": {},
     "output_type": "execute_result"
    }
   ],
   "source": [
    "# The Gemini models love to talk, so it helps to specify they stick to the code if that\n",
    "# is all that you want.\n",
    "code_prompt = \"\"\"\n",
    "Write a Python function to calculate the factorial of a number. No explanation, provide only the code.\n",
    "\"\"\"\n",
    "\n",
    "response = client.models.generate_content(\n",
    "    model='gemini-2.0-flash',\n",
    "    config=types.GenerateContentConfig(\n",
    "        temperature=1,\n",
    "        top_p=1,\n",
    "        max_output_tokens=1024,\n",
    "    ),\n",
    "    contents=code_prompt)\n",
    "\n",
    "Markdown(response.text)"
   ]
  },
  {
   "cell_type": "markdown",
   "id": "dcd77750",
   "metadata": {
    "id": "wlBMWSFhgVRQ",
    "papermill": {
     "duration": 0.015308,
     "end_time": "2025-03-31T19:16:17.848214",
     "exception": false,
     "start_time": "2025-03-31T19:16:17.832906",
     "status": "completed"
    },
    "tags": []
   },
   "source": [
    "### Code execution\n",
    "\n",
    "The Gemini API can automatically run generated code too, and will return the output.\n",
    "\n",
    "<table align=left>\n",
    "  <td>\n",
    "    <a target=\"_blank\" href=\"https://aistudio.google.com/prompts/11veFr_VYEwBWcLkhNLr-maCG0G8sS_7Z\"><img src=\"https://ai.google.dev/site-assets/images/marketing/home/icon-ais.png\" style=\"height: 24px\" height=24/> Open in AI Studio</a>\n",
    "  </td>\n",
    "</table>"
   ]
  },
  {
   "cell_type": "code",
   "execution_count": 33,
   "id": "8496b37d",
   "metadata": {
    "execution": {
     "iopub.execute_input": "2025-03-31T19:16:17.880404Z",
     "iopub.status.busy": "2025-03-31T19:16:17.880061Z",
     "iopub.status.idle": "2025-03-31T19:16:20.211907Z",
     "shell.execute_reply": "2025-03-31T19:16:20.210873Z"
    },
    "id": "jT3OfWYfhjRL",
    "papermill": {
     "duration": 2.350506,
     "end_time": "2025-03-31T19:16:20.214057",
     "exception": false,
     "start_time": "2025-03-31T19:16:17.863551",
     "status": "completed"
    },
    "tags": []
   },
   "outputs": [
    {
     "name": "stdout",
     "output_type": "stream",
     "text": [
      "{'text': 'Okay, I can do that. First, I need to generate the first 14 odd '\n",
      "         'prime numbers. Remember that a prime number is a number greater than '\n",
      "         '1 that has only two divisors: 1 and itself. Also, since I am looking '\n",
      "         'for odd primes, I will exclude 2, which is the only even prime '\n",
      "         'number.\\n'\n",
      "         '\\n'\n",
      "         \"Here's how I'll do it: I'll start listing odd numbers, check their \"\n",
      "         'primality, and keep going until I have 14 odd primes. Then I will '\n",
      "         'sum them.\\n'\n",
      "         '\\n'}\n",
      "-----\n",
      "{'executable_code': {'code': 'def is_prime(n):\\n'\n",
      "                             '    if n <= 1:\\n'\n",
      "                             '        return False\\n'\n",
      "                             '    for i in range(2, int(n**0.5) + 1):\\n'\n",
      "                             '        if n % i == 0:\\n'\n",
      "                             '            return False\\n'\n",
      "                             '    return True\\n'\n",
      "                             '\\n'\n",
      "                             'odd_primes = []\\n'\n",
      "                             'num = 3\\n'\n",
      "                             'while len(odd_primes) < 14:\\n'\n",
      "                             '    if is_prime(num):\\n'\n",
      "                             '        odd_primes.append(num)\\n'\n",
      "                             '    num += 2\\n'\n",
      "                             '\\n'\n",
      "                             \"print(f'{odd_primes=}')\\n\"\n",
      "                             '\\n'\n",
      "                             'import numpy as np\\n'\n",
      "                             'sum_of_primes = np.sum(odd_primes)\\n'\n",
      "                             \"print(f'{sum_of_primes=}')\\n\"\n",
      "                             '\\n',\n",
      "                     'language': 'PYTHON'}}\n",
      "-----\n",
      "{'code_execution_result': {'outcome': 'OUTCOME_OK',\n",
      "                           'output': 'odd_primes=[3, 5, 7, 11, 13, 17, 19, 23, '\n",
      "                                     '29, 31, 37, 41, 43, 47]\\n'\n",
      "                                     'sum_of_primes=np.int64(326)\\n'}}\n",
      "-----\n",
      "{'text': 'The first 14 odd prime numbers are 3, 5, 7, 11, 13, 17, 19, 23, 29, '\n",
      "         '31, 37, 41, 43, and 47.\\n'\n",
      "         '\\n'\n",
      "         'Their sum is 326.\\n'}\n",
      "-----\n"
     ]
    }
   ],
   "source": [
    "from pprint import pprint\n",
    "\n",
    "config = types.GenerateContentConfig(\n",
    "    tools=[types.Tool(code_execution=types.ToolCodeExecution())],\n",
    ")\n",
    "\n",
    "code_exec_prompt = \"\"\"\n",
    "Generate the first 14 odd prime numbers, then calculate their sum.\n",
    "\"\"\"\n",
    "\n",
    "response = client.models.generate_content(\n",
    "    model='gemini-2.0-flash',\n",
    "    config=config,\n",
    "    contents=code_exec_prompt)\n",
    "\n",
    "for part in response.candidates[0].content.parts:\n",
    "  pprint(part.to_json_dict())\n",
    "  print(\"-----\")"
   ]
  },
  {
   "cell_type": "markdown",
   "id": "c7f58f73",
   "metadata": {
    "id": "ZspT1GSkjG6d",
    "papermill": {
     "duration": 0.015128,
     "end_time": "2025-03-31T19:16:20.244797",
     "exception": false,
     "start_time": "2025-03-31T19:16:20.229669",
     "status": "completed"
    },
    "tags": []
   },
   "source": [
    "This response contains multiple parts, including an opening and closing text part that represent regular responses, an `executable_code` part that represents generated code and a `code_execution_result` part that represents the results from running the generated code.\n",
    "\n",
    "You can explore them individually."
   ]
  },
  {
   "cell_type": "code",
   "execution_count": 34,
   "id": "c613ca93",
   "metadata": {
    "execution": {
     "iopub.execute_input": "2025-03-31T19:16:20.277376Z",
     "iopub.status.busy": "2025-03-31T19:16:20.276995Z",
     "iopub.status.idle": "2025-03-31T19:16:20.289789Z",
     "shell.execute_reply": "2025-03-31T19:16:20.288801Z"
    },
    "papermill": {
     "duration": 0.031652,
     "end_time": "2025-03-31T19:16:20.291614",
     "exception": false,
     "start_time": "2025-03-31T19:16:20.259962",
     "status": "completed"
    },
    "tags": []
   },
   "outputs": [
    {
     "data": {
      "text/markdown": [
       "Okay, I can do that. First, I need to generate the first 14 odd prime numbers. Remember that a prime number is a number greater than 1 that has only two divisors: 1 and itself. Also, since I am looking for odd primes, I will exclude 2, which is the only even prime number.\n",
       "\n",
       "Here's how I'll do it: I'll start listing odd numbers, check their primality, and keep going until I have 14 odd primes. Then I will sum them.\n",
       "\n"
      ],
      "text/plain": [
       "<IPython.core.display.Markdown object>"
      ]
     },
     "metadata": {},
     "output_type": "display_data"
    },
    {
     "data": {
      "text/markdown": [
       "```python\n",
       "def is_prime(n):\n",
       "    if n <= 1:\n",
       "        return False\n",
       "    for i in range(2, int(n**0.5) + 1):\n",
       "        if n % i == 0:\n",
       "            return False\n",
       "    return True\n",
       "\n",
       "odd_primes = []\n",
       "num = 3\n",
       "while len(odd_primes) < 14:\n",
       "    if is_prime(num):\n",
       "        odd_primes.append(num)\n",
       "    num += 2\n",
       "\n",
       "print(f'{odd_primes=}')\n",
       "\n",
       "import numpy as np\n",
       "sum_of_primes = np.sum(odd_primes)\n",
       "print(f'{sum_of_primes=}')\n",
       "\n",
       "\n",
       "```"
      ],
      "text/plain": [
       "<IPython.core.display.Markdown object>"
      ]
     },
     "metadata": {},
     "output_type": "display_data"
    },
    {
     "data": {
      "text/markdown": [
       "```\n",
       "odd_primes=[3, 5, 7, 11, 13, 17, 19, 23, 29, 31, 37, 41, 43, 47]\n",
       "sum_of_primes=np.int64(326)\n",
       "\n",
       "```"
      ],
      "text/plain": [
       "<IPython.core.display.Markdown object>"
      ]
     },
     "metadata": {},
     "output_type": "display_data"
    },
    {
     "data": {
      "text/markdown": [
       "The first 14 odd prime numbers are 3, 5, 7, 11, 13, 17, 19, 23, 29, 31, 37, 41, 43, and 47.\n",
       "\n",
       "Their sum is 326.\n"
      ],
      "text/plain": [
       "<IPython.core.display.Markdown object>"
      ]
     },
     "metadata": {},
     "output_type": "display_data"
    }
   ],
   "source": [
    "for part in response.candidates[0].content.parts:\n",
    "    if part.text:\n",
    "        display(Markdown(part.text))\n",
    "    elif part.executable_code:\n",
    "        display(Markdown(f'```python\\n{part.executable_code.code}\\n```'))\n",
    "    elif part.code_execution_result:\n",
    "        if part.code_execution_result.outcome != 'OUTCOME_OK':\n",
    "            display(Markdown(f'## Status {part.code_execution_result.outcome}'))\n",
    "\n",
    "        display(Markdown(f'```\\n{part.code_execution_result.output}\\n```'))"
   ]
  },
  {
   "cell_type": "markdown",
   "id": "1abade48",
   "metadata": {
    "id": "1gUX8QzCj4d5",
    "papermill": {
     "duration": 0.015678,
     "end_time": "2025-03-31T19:16:20.323724",
     "exception": false,
     "start_time": "2025-03-31T19:16:20.308046",
     "status": "completed"
    },
    "tags": []
   },
   "source": [
    "### Explaining code\n",
    "\n",
    "The Gemini family of models can explain code to you too. In this example, you pass a [bash script](https://github.com/magicmonty/bash-git-prompt) and ask some questions.\n",
    "\n",
    "<table align=left>\n",
    "  <td>\n",
    "    <a target=\"_blank\" href=\"https://aistudio.google.com/prompts/1N7LGzWzCYieyOf_7bAG4plrmkpDNmUyb\"><img src=\"https://ai.google.dev/site-assets/images/marketing/home/icon-ais.png\" style=\"height: 24px\" height=24/> Open in AI Studio</a>\n",
    "  </td>\n",
    "</table>"
   ]
  },
  {
   "cell_type": "code",
   "execution_count": 35,
   "id": "2206ac00",
   "metadata": {
    "execution": {
     "iopub.execute_input": "2025-03-31T19:16:20.357114Z",
     "iopub.status.busy": "2025-03-31T19:16:20.356696Z",
     "iopub.status.idle": "2025-03-31T19:16:22.645912Z",
     "shell.execute_reply": "2025-03-31T19:16:22.644885Z"
    },
    "id": "7_jPMMoxkIEb",
    "papermill": {
     "duration": 2.308344,
     "end_time": "2025-03-31T19:16:22.647919",
     "exception": false,
     "start_time": "2025-03-31T19:16:20.339575",
     "status": "completed"
    },
    "tags": []
   },
   "outputs": [
    {
     "data": {
      "text/markdown": [
       "This file is a shell script, designed to enhance your command prompt with information about the Git repository you're currently working in.  Specifically, it's a tool called `bash-git-prompt`, although it's compatible with both Bash and Zsh.\n",
       "\n",
       "Here's a breakdown:\n",
       "\n",
       "*   **What it does:**  It dynamically updates your command prompt to display information like the current Git branch, whether there are uncommitted changes, the status of remote tracking branches (ahead/behind), and other Git-related details. It uses colors to visually distinguish these elements. The idea is to give you at-a-glance insight into your Git repository's state without having to run `git status` manually every time.  It also supports virtual environment display in the prompt.\n",
       "\n",
       "*   **Why use it?**\n",
       "\n",
       "    *   **Increased awareness:**  Constantly displays Git status, reducing the chance of accidentally committing or pushing incorrect changes.\n",
       "    *   **Improved workflow:**  Provides information immediately, streamlining your Git-based development workflow.\n",
       "    *   **Customization:**  Offers extensive options for customization, allowing you to tailor the prompt to your preferences (colors, displayed information, etc.).\n",
       "    *   **Compatibility:** Designed to work with both `bash` and `zsh` shells.\n",
       "\n",
       "In essence, it's a productivity tool that integrates Git information directly into your shell, making it easier to stay informed about your projects.\n"
      ],
      "text/plain": [
       "<IPython.core.display.Markdown object>"
      ]
     },
     "execution_count": 35,
     "metadata": {},
     "output_type": "execute_result"
    }
   ],
   "source": [
    "file_contents = !curl https://raw.githubusercontent.com/magicmonty/bash-git-prompt/refs/heads/master/gitprompt.sh\n",
    "\n",
    "explain_prompt = f\"\"\"\n",
    "Please explain what this file does at a very high level. What is it, and why would I use it?\n",
    "\n",
    "```\n",
    "{file_contents}\n",
    "```\n",
    "\"\"\"\n",
    "\n",
    "response = client.models.generate_content(\n",
    "    model='gemini-2.0-flash',\n",
    "    contents=explain_prompt)\n",
    "\n",
    "Markdown(response.text)"
   ]
  },
  {
   "cell_type": "markdown",
   "id": "bdcda1ca",
   "metadata": {
    "id": "2a8266d97ce5",
    "papermill": {
     "duration": 0.015933,
     "end_time": "2025-03-31T19:16:22.680278",
     "exception": false,
     "start_time": "2025-03-31T19:16:22.664345",
     "status": "completed"
    },
    "tags": []
   },
   "source": [
    "## Learn more\n",
    "\n",
    "To learn more about prompting in depth:\n",
    "\n",
    "* Check out the whitepaper issued with today's content,\n",
    "* Try out the apps listed at the top of this notebook ([TextFX](https://textfx.withgoogle.com/), [SQL Talk](https://sql-talk-r5gdynozbq-uc.a.run.app/) and [NotebookLM](https://notebooklm.google/)),\n",
    "* Read the [Introduction to Prompting](https://ai.google.dev/gemini-api/docs/prompting-intro) from the Gemini API docs,\n",
    "* Explore the Gemini API's [prompt gallery](https://ai.google.dev/gemini-api/prompts) and try them out in AI Studio,\n",
    "* Check out the Gemini API cookbook for [inspirational examples](https://github.com/google-gemini/cookbook/blob/main/examples/) and [educational quickstarts](https://github.com/google-gemini/cookbook/blob/main/quickstarts/).\n",
    "\n",
    "Be sure to check out the codelabs on day 3 too, where you will explore some more advanced prompting with code execution.\n",
    "\n",
    "And please share anything exciting you have tried in the Discord!\n",
    "\n",
    "*- [Mark McD](https://linktr.ee/markmcd)*"
   ]
  }
 ],
 "metadata": {
  "colab": {
   "name": "day-1-prompting.ipynb",
   "toc_visible": true
  },
  "kaggle": {
   "accelerator": "none",
   "dataSources": [],
   "dockerImageVersionId": 30786,
   "isGpuEnabled": false,
   "isInternetEnabled": true,
   "language": "python",
   "sourceType": "notebook"
  },
  "kernelspec": {
   "display_name": "Python 3",
   "language": "python",
   "name": "python3"
  },
  "language_info": {
   "codemirror_mode": {
    "name": "ipython",
    "version": 3
   },
   "file_extension": ".py",
   "mimetype": "text/x-python",
   "name": "python",
   "nbconvert_exporter": "python",
   "pygments_lexer": "ipython3",
   "version": "3.10.14"
  },
  "papermill": {
   "default_parameters": {},
   "duration": 109.061346,
   "end_time": "2025-03-31T19:16:23.316946",
   "environment_variables": {},
   "exception": null,
   "input_path": "__notebook__.ipynb",
   "output_path": "__notebook__.ipynb",
   "parameters": {},
   "start_time": "2025-03-31T19:14:34.255600",
   "version": "2.6.0"
  }
 },
 "nbformat": 4,
 "nbformat_minor": 5
}
